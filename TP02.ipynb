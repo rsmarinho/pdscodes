{
  "nbformat": 4,
  "nbformat_minor": 0,
  "metadata": {
    "colab": {
      "name": "TP02.ipynb",
      "provenance": [],
      "collapsed_sections": [],
      "include_colab_link": true
    },
    "kernelspec": {
      "name": "python3",
      "display_name": "Python 3"
    }
  },
  "cells": [
    {
      "cell_type": "markdown",
      "metadata": {
        "id": "view-in-github",
        "colab_type": "text"
      },
      "source": [
        "<a href=\"https://colab.research.google.com/github/rsmarinho/pdscodes/blob/master/TP02.ipynb\" target=\"_parent\"><img src=\"https://colab.research.google.com/assets/colab-badge.svg\" alt=\"Open In Colab\"/></a>"
      ]
    },
    {
      "cell_type": "code",
      "metadata": {
        "id": "3CBgJXKvthaC"
      },
      "source": [
        "# here goes your include modules...\n",
        "import numpy as np\n",
        "import matplotlib.pyplot as plt\n",
        "\n",
        "# bibliotecas utilizadas para I/O e visualização dos sinais de audio\n",
        "import soundfile as sf\n",
        "from IPython.display import Audio"
      ],
      "execution_count": null,
      "outputs": []
    },
    {
      "cell_type": "markdown",
      "metadata": {
        "id": "gWYqxTVcoAJy"
      },
      "source": [
        "**TP02 - Efeitos de operações lineares em sinais de audio.**\n",
        "\n",
        "---\n",
        "\n",
        "Nesse trabalho prático vamos estudar os efeitos de algumas operações lineares em sinais de audio criados artificialmente e com exemplos de sinais gravados de voz.\n",
        "\n",
        "\n",
        "Fonte:\n",
        "- spoltech : https://catalog.ldc.upenn.edu/LDC2006S16\n",
        "- UFPA Fala Brasil : https://ufpafalabrasil.gitlab.io/\n",
        "- https://medium.com/brasil-ai/reconhecimento-voz-python-35a5023767ca\n",
        "- https://medium.com/ensina-ai/identificando-pessoas-atrav%C3%A9s-da-voz-d900a0812fe1\n",
        "\n",
        "O [arquivo de exemplo](https://github.com/rsmarinho/pdscodes/blob/master/LDC2006S16.wav) é encontrado na [página](https://catalog.ldc.upenn.edu/LDC2006S16) oficial da base de dados Spoltech para reconhecimento de voz, e é gravado em português brasileiro."
      ]
    },
    {
      "cell_type": "markdown",
      "metadata": {
        "id": "43uRVuumXLK1"
      },
      "source": [
        "Devemos primeiramente aprender a manipular os dados com que vamos trabalhar. Abaixo um exemplo de como carregar um arquivo de audio no notebok de trabalho, e o comando que podemos usar para *tocar* a sequência de dados de forma que podemos *escutar* seu conteúdo. Note que o comando **load()** retorna também a taxa de amostragem do sinal lido."
      ]
    },
    {
      "cell_type": "code",
      "metadata": {
        "id": "8ypPk-jGR6WY"
      },
      "source": [
        "# le o arquivo de audio (não esqueça de carregar o arquivo para o colab)\n",
        "x, sr = sf.read('/content/LDC2006S16.wav')\n",
        "\n",
        "# gera um player para leitura do arquivo de audio\n",
        "# utiliza o modulo IPython.display\n",
        "Audio(x, rate=sr)"
      ],
      "execution_count": null,
      "outputs": []
    },
    {
      "cell_type": "code",
      "metadata": {
        "id": "abOk3y3pX7e-"
      },
      "source": [
        "print(sr)"
      ],
      "execution_count": null,
      "outputs": []
    },
    {
      "cell_type": "markdown",
      "metadata": {
        "id": "qlUMqML1XbDV"
      },
      "source": [
        "Caso seja preciso criar um conteúdo (sequência de audio), podemos executar da mesma forma que a criação de uma sequência de sinais senoidais. Criamos o sinal à partir de uma variável independente (nesse caso **t**). Não podemos equecer da taxa de amostragem do sinal."
      ]
    },
    {
      "cell_type": "code",
      "metadata": {
        "id": "FAN8dkNJYjuc"
      },
      "source": [
        "# usamos o mesmo sample-rate e escala temporal para os nossos exemplos.\n",
        "sr = 44100 # samplerate\n",
        "t = np.linspace(0, 10, sr*10) # tempo amostrado"
      ],
      "execution_count": null,
      "outputs": []
    },
    {
      "cell_type": "code",
      "metadata": {
        "id": "Kv7KQqd8qFbP"
      },
      "source": [
        "# cria um sinal artificial de audio\n",
        "data = np.sin(2*np.pi*220*t) + 4*np.sin(2*np.pi*224*t) # sinal gerado\n",
        "\n",
        "Audio(data, rate=sr)"
      ],
      "execution_count": null,
      "outputs": []
    },
    {
      "cell_type": "markdown",
      "metadata": {
        "id": "hkqIMyqsZP9Q"
      },
      "source": [
        "Caso seja necessário, também é possível criar um sinal de audio com mais de um canal..."
      ]
    },
    {
      "cell_type": "code",
      "metadata": {
        "id": "l77XkH5lxJ2U"
      },
      "source": [
        "# criamos o som de base \n",
        "def base(t):\n",
        "    return np.sin(2*np.pi*220*t)*np.exp(-t)\n",
        "\n",
        "# definimos o canal da esquerda à partir do som de base\n",
        "t_left  = 4*(t/4 - np.fix(t/4))\n",
        "left   = base(t_left)\n",
        "\n",
        "# e depois o canal da direita\n",
        "t_right = 4*((t+2)/4 - np.fix((t+2)/4))\n",
        "right  = base(t_right)\n",
        "\n",
        "# e visualizamos o som criado\n",
        "plt.plot(t, left)\n",
        "plt.plot(t, right)\n",
        "\n",
        "# Nesse caso o sinal é a concatenação dos dois vetores\n",
        "# o do canal direito e o do canal esquerdo\n",
        "Audio([left, right], rate=sr)"
      ],
      "execution_count": null,
      "outputs": []
    },
    {
      "cell_type": "markdown",
      "metadata": {
        "id": "h3sXzgIoaNX-"
      },
      "source": [
        "E se for preciso gravar o sinal de audio, então podemos fazer asim..."
      ]
    },
    {
      "cell_type": "code",
      "metadata": {
        "id": "yN1yLRmEaMGz"
      },
      "source": [
        "# é preciso primeiro passar o formato ndarray, pois\n",
        "# é o tipo de dado que o módulo librosa compreende...\n",
        "sig = np.array([left, right])\n",
        "\n",
        "# para salvar precisamos do nome e caminho do novo arquivo\n",
        "# do sinal e de sua amostragem...\n",
        "sf.write('/content/two_channel.wav', sig.T, sr, 'PCM_32')"
      ],
      "execution_count": null,
      "outputs": []
    },
    {
      "cell_type": "markdown",
      "metadata": {
        "id": "SQtxzf8mAn0S"
      },
      "source": [
        "De maneira geral, instrumentos não criam senoides perfeitas quando manuseados. Em cada instrumento suas estruturas de fabricação  garantem qualidades sonoras diferentes um do outro, o que torna cada instrumento único. A natureza do intrumento adiciona à frequência de cada nota harmônicos que modificam sua qualidade sonora.\n",
        "\n",
        "No piano, os harmônicos não são frequências multiplas da frequência de base. Felizmente podemos calcular essas frequências, como mostrado [aqui](https://physics.stackexchange.com/questions/268568/why-are-the-harmonics-of-a-piano-tone-not-multiples-of-the-base-frequency)."
      ]
    },
    {
      "cell_type": "code",
      "metadata": {
        "id": "4P49JQCc2Zsc"
      },
      "source": [
        "# https://physics.stackexchange.com/questions/268568/why-are-the-harmonics-of-a-piano-tone-not-multiples-of-the-base-frequency\n",
        "B = 0.0035\n",
        "n = np.linspace(0, 8, 9)\n",
        "fn = n * np.sqrt(1 + B * n**2)\n",
        "\n",
        "# Frequências harmônicas geradas à partir do dó central\n",
        "# definido em 440 Hz\n",
        "for i in fn:\n",
        "  print(440 + (440 * i))\n",
        "  \n",
        "plt.plot(n, fn, '*')"
      ],
      "execution_count": null,
      "outputs": []
    },
    {
      "cell_type": "code",
      "metadata": {
        "id": "4hp9frJA2x0-"
      },
      "source": [
        "# Função geradora para sinal que imita piano\n",
        "\n",
        "def base2(t, fc, n):\n",
        "  ans = np.zeros(t.shape)\n",
        "\n",
        "  B = 0.0035\n",
        "  h = np.linspace(0, n, n)\n",
        "  fn = h * np.sqrt(1 + B * h**2)\n",
        "\n",
        "  for i, k in enumerate(fn):\n",
        "    # print(f\"{(1/(i+1)**2)} : {k}\")\n",
        "    aux = 2 * np.pi * (fc + (fc * k))\n",
        "    ans += (1/(i+1)**2) * np.sin(aux * t)\n",
        "\n",
        "  # print(fn)\n",
        "  # print(fc + (fc * fn))\n",
        "  return ans"
      ],
      "execution_count": null,
      "outputs": []
    },
    {
      "cell_type": "code",
      "metadata": {
        "id": "zFuMLoXE3yp6"
      },
      "source": [
        "sig = base2(t, 261.65, 4) * np.exp(-t)\n",
        "\n",
        "Audio([sig, sig], rate=sr)"
      ],
      "execution_count": null,
      "outputs": []
    },
    {
      "cell_type": "code",
      "metadata": {
        "id": "HbS0kwiMIgJQ"
      },
      "source": [
        "# https://en.wikipedia.org/wiki/Envelope_(music)\n",
        "def envelope(sig, nS=1, nA=0.05, nD=0.05, nR=0.3, sr=sr):\n",
        "\n",
        "  if nS < (nA + nD):\n",
        "    return False\n",
        "  \n",
        "  t_max = nS + nR\n",
        "\n",
        "  amp_max = 1\n",
        "  amp_s = 0.3\n",
        "\n",
        "  A = int(np.fix(nA * sr))\n",
        "  D = int(np.fix(nD * sr))\n",
        "  S = int(np.fix(nS * sr))\n",
        "  R = int(np.fix(nR * sr))\n",
        "\n",
        "  ans = np.zeros( S + R )\n",
        "  S = S - (A+D)\n",
        "\n",
        "  ans[0:A] = np.linspace(0, amp_max, A)\n",
        "  ans[A:A+D] = np.linspace(amp_max, amp_s, D)\n",
        "  ans[A+D:A+D+S] = amp_s*np.ones(S)\n",
        "  ans[A+D+S:A+D+S+R] = np.linspace(amp_s, 0, R)\n",
        "\n",
        "  return np.append(sig, sig[0:R]) * ans"
      ],
      "execution_count": null,
      "outputs": []
    },
    {
      "cell_type": "code",
      "metadata": {
        "id": "_lcNIKvNBzIr"
      },
      "source": [
        "def base3(duration=1, sr=sr, fc=261.65, n=4):\n",
        "  nT = np.linspace(0, duration, duration*sr)\n",
        "  ans = np.zeros(nT.shape)\n",
        "\n",
        "  B = 0.0035\n",
        "  h = np.linspace(0, n, n)\n",
        "  fn = h * np.sqrt(1 + B * h**2)\n",
        "\n",
        "  for i, k in enumerate(fn):\n",
        "    # print(f\"{(1/(i+1)**2)} : {k}\")\n",
        "    aux = 2 * np.pi * (fc + (fc * k))\n",
        "    ans += (1/(i+1)**2) * np.sin(aux * nT)\n",
        "\n",
        "  return envelope(ans, nS=duration)"
      ],
      "execution_count": null,
      "outputs": []
    },
    {
      "cell_type": "code",
      "metadata": {
        "id": "s7U6rPSaHoFt"
      },
      "source": [
        "# Rt = np.linspace(0, 1, sr*1) # tempo amostrado\n",
        "sig = base3(fc=261.65, duration=1, n=4)\n",
        "\n",
        "Audio([sig, sig], rate=sr)"
      ],
      "execution_count": null,
      "outputs": []
    },
    {
      "cell_type": "code",
      "metadata": {
        "id": "rslVT6xmAOkm"
      },
      "source": [
        "yf = abs(np.fft.fft(sig))\n",
        "xf  = np.linspace(0.0, 1.0/(2.0*10), int(t.size/2))"
      ],
      "execution_count": null,
      "outputs": []
    },
    {
      "cell_type": "code",
      "metadata": {
        "id": "V9JV6TRF74xQ"
      },
      "source": [
        "plt.figure(figsize = (14, 8))\n",
        "\n",
        "plt.subplot(221)\n",
        "plt.plot(sig)\n",
        "\n",
        "plt.subplot(222)\n",
        "plt.plot(2/yf.size * yf[:yf.size//2])"
      ],
      "execution_count": null,
      "outputs": []
    },
    {
      "cell_type": "markdown",
      "metadata": {
        "id": "bpalN-z9bGfo"
      },
      "source": [
        "Com essas informações, responda às seguintes questões:"
      ]
    },
    {
      "cell_type": "markdown",
      "metadata": {
        "id": "YWYGKEEsbHZs"
      },
      "source": [
        "**1.** Suponha uma frequência de amostragem de $44100\\,Hz$, crie uma escala de dó (do, re, mi, fa, sol, la, si, dó) com sinais senoidais variando a frequência de acordo com [essa imagem](https://github.com/rsmarinho/pdscodes/blob/master/notas_musicais.jpg) \\(obtida [aqui](https://www.researchgate.net/figure/Notas-e-frequencias-no-teclado-do-piano-MASLINKIEWICZ-COELHO-2012-p-91_fig1_275250294)\\). Cada nota deve ter a duração de um segundo, o que totalizará um sinal de audio de oito segundos de duração. Utilize como base o dó central."
      ]
    },
    {
      "cell_type": "code",
      "metadata": {
        "id": "jzn1UFTRtbHQ"
      },
      "source": [
        "sr = \n",
        "t = np.linspace(0, 8, sr)\n",
        "\n",
        "def escala(t):\n",
        "  # a criação da escala vai aqui\n",
        "  data = \n",
        "  return data\n",
        "\n",
        "sig = escala(t)\n",
        "\n",
        "Audio(sig, rate=sr)"
      ],
      "execution_count": null,
      "outputs": []
    },
    {
      "cell_type": "markdown",
      "metadata": {
        "id": "c8FpsSQpgfqo"
      },
      "source": [
        "**2.** Experimente mudar a taxa de amostragem (**sr**) para a metade da taxa de amostragem do sinal original? Nesse caso, quais serão as *novas* frequências de cada nota? Analise o **novo** sinal quanto sua duração. O que aconteceu? Com base em seus conhecimentos da teoria de sinais e sistemas, tente explicar o que acontece quando modificamos a taxa de amostragem."
      ]
    },
    {
      "cell_type": "markdown",
      "metadata": {
        "id": "HmFJMYH0g7nm"
      },
      "source": [
        "**3.** Um acorde é a junção de várias notas tocadas ao mesmo tempo. Em processamento digital de audio, podemos compreender um acorde como uma sobreposição de vários sinais de frequências diferentes. O acorde de dó maior é formado pelas notas \\<dó, mi, sol\\>. Novamente, com a ajuda do [mapa de frequências](https://github.com/rsmarinho/pdscodes/blob/master/notas_musicais.jpg) crie um acorde de dó com duração de três segundos."
      ]
    },
    {
      "cell_type": "code",
      "metadata": {
        "id": "efU05XoVezCo"
      },
      "source": [
        "sr = \n",
        "t = np.linspace(0, 3, sr)\n",
        "\n",
        "def acorde(t):\n",
        "  # a criação da escala vai aqui\n",
        "  data = \n",
        "  return data\n",
        "\n",
        "sig = acorde(t)\n",
        "\n",
        "Audio(sig, rate=sr)"
      ],
      "execution_count": null,
      "outputs": []
    },
    {
      "cell_type": "markdown",
      "metadata": {
        "id": "j76OGnUej3lP"
      },
      "source": [
        "**5.** Coloque a escala de dó (gerada na questão **1**) e o acorde de dó (gerado na questão **3**), um em cada canal e salve o resultado em um arquivo. Lembrem-se de que o tempo total tem que ser o mesmo para que a soma dê certo."
      ]
    },
    {
      "cell_type": "markdown",
      "metadata": {
        "id": "pmjCGML6-P6h"
      },
      "source": [
        "**6.** A função $base3()$ gera um sinal com a \"nota\" definida por uma frequência em Hertz. Note que a função base3 funciona da mesma maneira que a função $base2()$, exceto que a primeira modifica a amplitude do sinal para que ele tenha determinado [**envelope**](https://en.wikipedia.org/wiki/Envelope_(music)).\n",
        "\n",
        "Nessa questão, modifique a função envelope de tal forma que o $decay$, $sustain$ e $release$ da nota obedeçam exponenciais negativas, mas que o sinal não tenha descontinuidades."
      ]
    },
    {
      "cell_type": "code",
      "metadata": {
        "id": "n5OnVbHShkn_"
      },
      "source": [
        ""
      ],
      "execution_count": null,
      "outputs": []
    }
  ]
}