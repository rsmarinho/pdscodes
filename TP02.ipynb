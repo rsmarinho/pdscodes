{
  "nbformat": 4,
  "nbformat_minor": 0,
  "metadata": {
    "colab": {
      "name": "TP02.ipynb",
      "provenance": [],
      "collapsed_sections": [],
      "authorship_tag": "ABX9TyN8zwGYgb2GPgznjOGSg9cG"
    },
    "kernelspec": {
      "name": "python3",
      "display_name": "Python 3"
    }
  },
  "cells": [
    {
      "cell_type": "markdown",
      "metadata": {
        "id": "view-in-github",
        "colab_type": "text"
      },
      "source": [
        "<a href=\"https://colab.research.google.com/github/rsmarinho/pdscodes/blob/master/TP02.ipynb\" target=\"_parent\"><img src=\"https://colab.research.google.com/assets/colab-badge.svg\" alt=\"Open In Colab\"/></a>"
      ]
    },
    {
      "cell_type": "code",
      "metadata": {
        "id": "3CBgJXKvthaC",
        "colab_type": "code",
        "colab": {}
      },
      "source": [
        "# here goes your include modules...\n",
        "import numpy as np\n",
        "import matplotlib.pyplot as plt\n",
        "\n",
        "# bibliotecas utilizadas para I/O e visualização dos sinais de audio\n",
        "import librosa\n",
        "from IPython.display import Audio"
      ],
      "execution_count": null,
      "outputs": []
    },
    {
      "cell_type": "markdown",
      "metadata": {
        "id": "gWYqxTVcoAJy",
        "colab_type": "text"
      },
      "source": [
        "**TP02 - Efeitos de operações lineares em sinais de audio.**\n",
        "\n",
        "---\n",
        "\n",
        "Nesse trabalho prático vamos estudar os efeitos de algumas operações lineares em sinais de audio criados artificialmente e com exemplos de sinais gravados de voz.\n",
        "\n",
        "\n",
        "Fonte:\n",
        "- spoltech : https://catalog.ldc.upenn.edu/LDC2006S16\n",
        "- UFPA Fala Brasil : https://ufpafalabrasil.gitlab.io/\n",
        "- https://medium.com/brasil-ai/reconhecimento-voz-python-35a5023767ca\n",
        "- https://medium.com/ensina-ai/identificando-pessoas-atrav%C3%A9s-da-voz-d900a0812fe1\n",
        "\n",
        "O [arquivo de exemplo](https://github.com/rsmarinho/pdscodes/blob/master/LDC2006S16.wav) é encontrado na [página](https://catalog.ldc.upenn.edu/LDC2006S16) oficial da base de dados Spoltech para reconhecimento de voz, e é gravado em português brasileiro."
      ]
    },
    {
      "cell_type": "markdown",
      "metadata": {
        "id": "43uRVuumXLK1",
        "colab_type": "text"
      },
      "source": [
        "Devemos primeiramente aprender a manipular os dados com que vamos trabalhar. Abaixo um exemplo de como carregar um arquivo de audio no notebok de trabalho, e o comando que podemos usar para *tocar* a sequência de dados de forma que podemos *escutar* seu conteúdo. Note que o comando **load()** retorna também a taxa de amostragem do sinal lido."
      ]
    },
    {
      "cell_type": "code",
      "metadata": {
        "id": "8ypPk-jGR6WY",
        "colab_type": "code",
        "colab": {}
      },
      "source": [
        "# le o arquivo de audio (não esqueça de carregar o arquivo para o colab)\n",
        "x, sr = librosa.load('/content/LDC2006S16.wav')\n",
        "\n",
        "# gera um player para leitura do arquivo de audio\n",
        "# utiliza o modulo IPython.display\n",
        "Audio(x, rate=sr)"
      ],
      "execution_count": null,
      "outputs": []
    },
    {
      "cell_type": "code",
      "metadata": {
        "id": "abOk3y3pX7e-",
        "colab_type": "code",
        "colab": {}
      },
      "source": [
        "print(sr)"
      ],
      "execution_count": null,
      "outputs": []
    },
    {
      "cell_type": "markdown",
      "metadata": {
        "id": "qlUMqML1XbDV",
        "colab_type": "text"
      },
      "source": [
        "Caso seja preciso criar um conteúdo (sequência de audio), podemos executar da mesma forma que a criação de uma sequência de sinais senoidais. Criamos o sinal à partir de uma variável independente (nesse caso **t**). Não podemos equecer da taxa de amostragem do sinal."
      ]
    },
    {
      "cell_type": "code",
      "metadata": {
        "id": "FAN8dkNJYjuc",
        "colab_type": "code",
        "colab": {}
      },
      "source": [
        "# usamos o mesmo sample-rate e escala temporal para os nossos exemplos.\n",
        "sr = 44100 # samplerate\n",
        "t = np.linspace(0, 10, sr*10) # tempo amostrado"
      ],
      "execution_count": null,
      "outputs": []
    },
    {
      "cell_type": "code",
      "metadata": {
        "id": "Kv7KQqd8qFbP",
        "colab_type": "code",
        "colab": {}
      },
      "source": [
        "# cria um sinal artificial de audio\n",
        "data = np.sin(2*np.pi*220*t) + 4*np.sin(2*np.pi*224*t) # sinal gerado\n",
        "\n",
        "Audio(data, rate=sr)"
      ],
      "execution_count": null,
      "outputs": []
    },
    {
      "cell_type": "markdown",
      "metadata": {
        "id": "hkqIMyqsZP9Q",
        "colab_type": "text"
      },
      "source": [
        "Caso seja necessário, também é possível criar um sinal de audio com mais de um canal..."
      ]
    },
    {
      "cell_type": "code",
      "metadata": {
        "id": "l77XkH5lxJ2U",
        "colab_type": "code",
        "colab": {}
      },
      "source": [
        "# criamos o som de base \n",
        "def base(t):\n",
        "    return np.sin(2*np.pi*220*t)*np.exp(-t)\n",
        "\n",
        "# definimos o canal da esquerda à partir do som de base\n",
        "t_left  = 4*(t/4 - np.fix(t/4))\n",
        "left   = base(t_left)\n",
        "\n",
        "# e depois o canal da direita\n",
        "t_right = 4*((t+2)/4 - np.fix((t+2)/4))\n",
        "right  = base(t_right)\n",
        "\n",
        "# e visualizamos o som criado\n",
        "plt.plot(t, left)\n",
        "plt.plot(t, right)\n",
        "\n",
        "# Nesse caso o sinal é a concatenação dos dois vetores\n",
        "# o do canal direito e o do canal esquerdo\n",
        "Audio([left, right], rate=sr)"
      ],
      "execution_count": null,
      "outputs": []
    },
    {
      "cell_type": "markdown",
      "metadata": {
        "id": "h3sXzgIoaNX-",
        "colab_type": "text"
      },
      "source": [
        "E se for preciso gravar o sinal de audio, então podemos fazer asim..."
      ]
    },
    {
      "cell_type": "code",
      "metadata": {
        "id": "yN1yLRmEaMGz",
        "colab_type": "code",
        "colab": {}
      },
      "source": [
        "# é preciso primeiro passar o formato ndarray, pois\n",
        "# é o tipo de dado que o módulo librosa compreende...\n",
        "sig = np.array([left, right])\n",
        "\n",
        "# para salvar precisamos do nome e caminho do novo arquivo\n",
        "# do sinal e de sua amostragem...\n",
        "librosa.output.write_wav('/content/two_channel.wav', sig, sr)"
      ],
      "execution_count": null,
      "outputs": []
    },
    {
      "cell_type": "markdown",
      "metadata": {
        "id": "bpalN-z9bGfo",
        "colab_type": "text"
      },
      "source": [
        "Com essas informações, responda às seguintes questões:"
      ]
    },
    {
      "cell_type": "markdown",
      "metadata": {
        "id": "YWYGKEEsbHZs",
        "colab_type": "text"
      },
      "source": [
        "**1.** Suponha uma frequência de amostragem de $44100\\,Hz$, crie uma escala de dó (do, re, mi, fa, sol, la, si, dó) com sinais senoidais variando a frequência de acordo com [essa imagem](https://github.com/rsmarinho/pdscodes/blob/master/notas_musicais.jpg), abtida [aqui](https://www.researchgate.net/figure/Notas-e-frequencias-no-teclado-do-piano-MASLINKIEWICZ-COELHO-2012-p-91_fig1_275250294). Cada nota deve ter a duração de um segundo, o que totalizará um sinal de audio de oito segundos de duração. Utilize como base o dó central."
      ]
    },
    {
      "cell_type": "code",
      "metadata": {
        "id": "jzn1UFTRtbHQ",
        "colab_type": "code",
        "colab": {}
      },
      "source": [
        "sr = \n",
        "t = np.linspace(0, 8, sr)\n",
        "\n",
        "def escala(t):\n",
        "  # a criação da escala vai aqui\n",
        "  data = \n",
        "  return data\n",
        "\n",
        "sig = escala(t)\n",
        "\n",
        "Audio(sig, rate=sr)"
      ],
      "execution_count": null,
      "outputs": []
    },
    {
      "cell_type": "markdown",
      "metadata": {
        "id": "c8FpsSQpgfqo",
        "colab_type": "text"
      },
      "source": [
        "**2.** O que deve acontecer se mudarmos a taxa de amostragem para a metade da taxa de amostragem do sinal original? Nesse caso, quais serão as frequências de cada nota? Qual a duração de cada nota? Com base em seus conhecimentos da teoria de sinais e sistemas, tente explicar o que acontece quando modificamos a taxa de amostragem."
      ]
    },
    {
      "cell_type": "markdown",
      "metadata": {
        "id": "HmFJMYH0g7nm",
        "colab_type": "text"
      },
      "source": [
        "**3.** Um acorde é a junção de várias notas tocadas ao mesmo tempo. Em processamento digital de audio, podemos compreender um acorde como uma soma de vários sinais. O acorde de dó maior é formado pelas notas \\<dó, mi, sol\\>. Novamente, com a ajuda do [mapa de frequências](https://github.com/rsmarinho/pdscodes/blob/master/notas_musicais.jpg) tente criar o acorde de dó com uma duração de três segundos."
      ]
    },
    {
      "cell_type": "code",
      "metadata": {
        "id": "efU05XoVezCo",
        "colab_type": "code",
        "colab": {}
      },
      "source": [
        "sr = \n",
        "t = np.linspace(0, 3, sr)\n",
        "\n",
        "def acorde(t):\n",
        "  # a criação da escala vai aqui\n",
        "  data = \n",
        "  return data\n",
        "\n",
        "sig = acorde(t)\n",
        "\n",
        "Audio(sig, rate=sr)"
      ],
      "execution_count": null,
      "outputs": []
    },
    {
      "cell_type": "markdown",
      "metadata": {
        "id": "Qqzmy4wNiPVX",
        "colab_type": "text"
      },
      "source": [
        "**4.** O sinal gerado na questão anterior é a combinação linear de três sinais diferentes. Aumente a amplitude de um dos três sinais e tente descrever como essa diferença pode ser percebida no som que escutamos?"
      ]
    },
    {
      "cell_type": "markdown",
      "metadata": {
        "id": "j76OGnUej3lP",
        "colab_type": "text"
      },
      "source": [
        "**5.** Coloque a escala de dó (gerada na questão **1**) e o acorde de dó (gerado na questão **3**), um em cada canal e salve o resultado em um arquivo. Lembrem-se de que o tempo total tem que ser o mesmo para que a soma dê certo."
      ]
    },
    {
      "cell_type": "code",
      "metadata": {
        "id": "n5OnVbHShkn_",
        "colab_type": "code",
        "colab": {}
      },
      "source": [
        ""
      ],
      "execution_count": null,
      "outputs": []
    }
  ]
}
