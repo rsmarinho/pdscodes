{
  "nbformat": 4,
  "nbformat_minor": 0,
  "metadata": {
    "colab": {
      "name": "TP03.ipynb",
      "provenance": [],
      "collapsed_sections": [],
      "authorship_tag": "ABX9TyNhNi27LsR4fql0uK7//ldn",
      "include_colab_link": true
    },
    "kernelspec": {
      "name": "python3",
      "display_name": "Python 3"
    },
    "language_info": {
      "name": "python"
    }
  },
  "cells": [
    {
      "cell_type": "markdown",
      "metadata": {
        "id": "view-in-github",
        "colab_type": "text"
      },
      "source": [
        "<a href=\"https://colab.research.google.com/github/rsmarinho/pdscodes/blob/master/TP03.ipynb\" target=\"_parent\"><img src=\"https://colab.research.google.com/assets/colab-badge.svg\" alt=\"Open In Colab\"/></a>"
      ]
    },
    {
      "cell_type": "code",
      "metadata": {
        "id": "buUFt0RsI1iH"
      },
      "source": [
        "# here goes your include modules...\n",
        "import numpy as np\n",
        "import matplotlib.pyplot as plt\n",
        "\n",
        "# bibliotecas utilizadas para I/O e visualização dos sinais de audio\n",
        "import soundfile as sf\n",
        "from IPython.display import Audio"
      ],
      "execution_count": null,
      "outputs": []
    },
    {
      "cell_type": "markdown",
      "metadata": {
        "id": "gSKNuYOlJMcV"
      },
      "source": [
        "**TP03 - Estudos sobre efeitos de quantização lei-A e lei-$\\mu$.**\n",
        "\n",
        "---\n",
        "\n",
        "Nesse trabalho prático vamos estudar os efeitos de diferentes tipos de quantização em sinais de voz.\n"
      ]
    },
    {
      "cell_type": "markdown",
      "metadata": {
        "id": "f3ozBukDJl2J"
      },
      "source": [
        "Um sinal digital é formado por uma sequência de dados tal que sua representação seja discretizada em tempo e amplitude. Suponha por exemplo que queremos digitalizar um sinal analógico qualquer, para isso dois processos são fundamentais: o primeiro é a amostragem, ou seja, a captação de amostras do sinal de forma que este possa ser representado como uma serie de impulsos no tempo; o segundo é a quantização, método o qual se baseia em dividir a amplitude do sinal original em vários níveis. \n",
        "\n",
        "O processo de quantização pode ser dividido ainda como: **quantização uniforme**, que acontece quando os passos de quantização têm a mesma *distância*, ou **quantização não uniforme**, que acontece quando os passos de quantização são definidos por uma regra não linear, de forma a atender determinada característica do sinal quantizado.\n",
        "\n",
        "Alguns tipos de sinal podem ter grandes variações de amplitude, o que em algumas situações se traduz em grande quantidade de energia em faixas diferentes de amplitude. O sinal de voz é um bom exemplo desse tipo de sinal, em que grande parte da energia está em valores de amplitude mais próximos de zero.  "
      ]
    },
    {
      "cell_type": "markdown",
      "metadata": {
        "id": "Wu0kTE1ONvYv"
      },
      "source": [
        "No processo de quantização, a quantização para valores digitais está associada aos valores binários. Nesses casos, um conjunto de bits B define o número de níveis do sistema, dado por:\n",
        "\n",
        "$$L=2^B$$\n",
        "\n",
        "onde $L$ é o número de níveis de quantização e $B$ é a quantidade de bits utilizada no processo."
      ]
    },
    {
      "cell_type": "markdown",
      "metadata": {
        "id": "-hWWJ6AHPH61"
      },
      "source": [
        "A quantização não-linear, portanto, nos entrega relações *sinal-ruido de quantização* menores do que de quantização uniforme para o mesmo valor de $B$. No processo de quantização não-linear é o sinal é primeiramente distorcido (comprimido) por uma função não linear, e posteriormente quantizado de maneira linear. A compressão do sinal garante característica não-linear à quantização.\n",
        "\n",
        "Em geral, para sinais de voz, duas regras de compressão são estudadas: A **lei-A** e a **lei-$\\mu$**\n",
        "\n",
        "---"
      ]
    },
    {
      "cell_type": "markdown",
      "metadata": {
        "id": "9Rf6XCMdQsb-"
      },
      "source": [
        "### Lei-A\n",
        "\n",
        "A lei-A é mais utilizada na Europa em sistemas de comunicação de telefonia fixa. A compressão utilizada no sinal é dada pela equação\n",
        "\n",
        "\\begin{equation}\n",
        "    f(x)=\n",
        "    \\begin{cases}\n",
        "    \\dfrac{A\\cdot|x|}{1+\\ln(A)}\\cdot \\mbox{sign}(x), & |x|<\\dfrac{1}{A}\\\\[10pt]\n",
        "    \\dfrac{1+\\ln(A\\cdot|x|)}{1+\\ln(A)}\\cdot \\mbox{sign}(x),  &  \\dfrac{1}{A}\\le|x|\\leq1\n",
        "    \\end{cases}\n",
        "\\end{equation}\n",
        "\n",
        "Na Europa utiliza-se $A=87.56$, que garante certa qualidade do sinal de referência."
      ]
    },
    {
      "cell_type": "markdown",
      "metadata": {
        "id": "rD9EiNi4RMUm"
      },
      "source": [
        "### Lei-$\\mu$\n",
        "\n",
        "Mais utilizada na América do Norte e Japão a compressão em lei-$\\mu$ é caracterizada pela equação\n",
        "\n",
        "\\begin{equation}\n",
        "f(x)=\\dfrac{\\ln(1+\\mu\\cdot|x|)}{\\ln(1+\\mu)}\\cdot \\mbox{sign}(x)\n",
        "\\end{equation}\n",
        "\n",
        "Na equação acima, o parâmetro $\\mu=255$ é utilizado."
      ]
    },
    {
      "cell_type": "markdown",
      "metadata": {
        "id": "bpalN-z9bGfo"
      },
      "source": [
        "Com essas informações, responda às seguintes questões:\n",
        "\n",
        "---"
      ]
    },
    {
      "cell_type": "markdown",
      "metadata": {
        "id": "L9Hwy2UDR6lv"
      },
      "source": [
        "**1.** Utilizando o [este](https://github.com/rsmarinho/pdscodes/blob/master/LDC2006S16.wav) arquivo, mostre as formas de onda (plot) do arquivo original e suas versões comprimidas por ambas as leis de compressão."
      ]
    },
    {
      "cell_type": "markdown",
      "metadata": {
        "id": "nsiE9_5WStqW"
      },
      "source": [
        "**2.** Agora que você procedeu com a compressão no item anterior, utilize a quantização linear com $B=4$ e $B=8$ em ambos os sinais compactados.\n",
        "\n",
        "Utilize a função *Audio()* (do módulo  IPython.display) para \"tocar\" o resultado da modificação feita."
      ]
    },
    {
      "cell_type": "markdown",
      "metadata": {
        "id": "8uVuhWG0Ueoc"
      },
      "source": [
        "**3.** A [**SQNR**](https://en.wikipedia.org/wiki/Signal-to-quantization-noise_ratio) (Signal to quantization noise ratio) é uma métrica de quantização definida por \n",
        "\n",
        "$$SQNR = \\frac{P_s}{P_n}$$\n",
        "\n",
        "onde $P_s$ é a potência do sinal e $P_n$ é a potência do erro de quantização do sinal.\n",
        "\n",
        "Responda:\n",
        "- Faça um gráfico de $SQNR$ vs. $B$. \n",
        "\n",
        "Para obter o gráfico, faça $B$ variar 2 e 16. (**Lembre-se que $B$ é a quantidade de bits de quantização, portanto você pode apenas utilizar números inteiros**).\n",
        "\n",
        "- Crie um método para cada uma das leis de compressão utilizadas. Esses métodos devem receber como entrada o sinal comprimido e quantizado e retornar o sinal com a função inversa de cada uma das leis."
      ]
    },
    {
      "cell_type": "code",
      "metadata": {
        "id": "gNw1nxvpNWRr"
      },
      "source": [
        ""
      ],
      "execution_count": null,
      "outputs": []
    }
  ]
}