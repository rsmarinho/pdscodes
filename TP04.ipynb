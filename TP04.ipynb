{
  "nbformat": 4,
  "nbformat_minor": 0,
  "metadata": {
    "colab": {
      "name": "TP04.ipynb",
      "provenance": [],
      "collapsed_sections": [],
      "mount_file_id": "1dZ22y-zfV_1VwxZSPCb_GAZ3bhbUWw7i",
      "authorship_tag": "ABX9TyMrB2pi1uRnklFkME2gk5zy",
      "include_colab_link": true
    },
    "kernelspec": {
      "name": "python3",
      "display_name": "Python 3"
    }
  },
  "cells": [
    {
      "cell_type": "markdown",
      "metadata": {
        "id": "view-in-github",
        "colab_type": "text"
      },
      "source": [
        "<a href=\"https://colab.research.google.com/github/rsmarinho/pdscodes/blob/master/TP04.ipynb\" target=\"_parent\"><img src=\"https://colab.research.google.com/assets/colab-badge.svg\" alt=\"Open In Colab\"/></a>"
      ]
    },
    {
      "cell_type": "code",
      "metadata": {
        "id": "aSRUG-9A6sD2"
      },
      "source": [
        "# here goes your include modules...\n",
        "import numpy as np\n",
        "import matplotlib.pyplot as plt\n",
        "\n",
        "# in this TP we will use scipy modul to read the files\n",
        "from scipy.io import wavfile\n",
        "# if you rather to use librosa, use the lines below\n",
        "import librosa\n",
        "\n",
        "# below are the module used to play the audio vectors in jupyterlab\n",
        "from IPython.display import Audio"
      ],
      "execution_count": null,
      "outputs": []
    },
    {
      "cell_type": "markdown",
      "metadata": {
        "id": "WwGss-wC6x7p"
      },
      "source": [
        "**TP04 - Janelamento.**\n",
        "\n",
        "---\n",
        "\n",
        "[Funções de janelamento](https://en.wikipedia.org/wiki/Window_function) são muito utilizadas em processamento de sinais. Seu papel é fixar uma quantidade de amostras para serem processadas. \n",
        "\n",
        "Uma função de janelamento é uma função matemática que é igual a zero fora de um determinado intervalo, e geralmente simétrica no entorno de um ponto central. Usualmente o ponto central é o ponto máximo do intervalo (à depender do tipo de janela).\n",
        "\n",
        "Em várias ocasiões é preciso que um sinal $x(t)$ qualquer deva ser examinado por segmentos de tamanho menor do que o tamanho do sinal. Esse método modifica o conteúdo do sinal e afeta o conteúdo frequencial do sinal causando \"vazamento espectral\" ([spectral leakage](https://en.wikipedia.org/wiki/Spectral_leakage)).\n",
        "\n",
        "Diversos tipos de funções de janelamento são portanto utilizadas para minimizar o efeito de vazamento espectral."
      ]
    },
    {
      "cell_type": "markdown",
      "metadata": {
        "id": "Q5q5-Mmbq2DD"
      },
      "source": [
        "Este trabalho prático será utilizado no intuito de estudar os efeitos de janelamento em sinais unidimensionais."
      ]
    },
    {
      "cell_type": "code",
      "metadata": {
        "id": "8P9EU4A_8bUm"
      },
      "source": [
        "# O sinal utilizado nesse trabalho será o sinal do spoltech\n",
        "# e está no github, antes de fazer as células funcionarem\n",
        "# faça o download do arquivo LDC2006S16.wav e coloque-o \n",
        "# em uma pasta no drive para que você possa utilizá-lo com\n",
        "# o google colab.\n",
        "\n",
        "data_sr, data = wavfile.read('/content/drive/LDC2006S16.wav')\n",
        "Audio(data, rate=data_sr)"
      ],
      "execution_count": null,
      "outputs": []
    },
    {
      "cell_type": "code",
      "metadata": {
        "id": "VqIr0nCJkz2Y"
      },
      "source": [
        "# Nessa célula definimos algumas janelas que serão utilizadas\n",
        "# no decorrer desse trabalho. Explicações sobre o efeito de\n",
        "# cada uma das funções de janelamento bem como suas formulações\n",
        "# podem ser encontrados em https://en.wikipedia.org/wiki/Window_function\n",
        "\n",
        "def hannWindow(N):\n",
        "    n = np.linspace(-N/2, N/2, N)\n",
        "    return 0.5*(1+np.cos(2*np.pi*n/N))\n",
        "\n",
        "def hammingWindow(N, a0=0.53836):\n",
        "    n = np.linspace(0, N, N)\n",
        "    return a0-(1-a0)*(np.cos(2*np.pi*n/N))\n",
        "\n",
        "def gaussianWindow(N, sigma=0.5):\n",
        "    n = np.linspace(0, N, N)\n",
        "    return np.exp(-0.5*((n-N/2)/(sigma*N/2))**2)\n",
        "\n",
        "def blackmanHarrisWindow(N):\n",
        "    a0, a1, a2, a3 = 0.35875, 0.48829, 0.14128, 0.01168\n",
        "    n = np.linspace(0, N, N)\n",
        "    return a0-a1*np.cos(2*np.pi*n/N)+a2*np.cos(4*np.pi*n/N)-a3*np.cos(6*np.pi*n/N)\n",
        "\n",
        "def flattopWindow(N):\n",
        "    a0, a1, a2, a3, a4 = 0.21557895, 0.41663158, 0.277263158, 0.083578947, 0.006947368\n",
        "    n = np.linspace(0, N, N)\n",
        "    return a0-a1*np.cos(2*np.pi*n/N)+a2*np.cos(4*np.pi*n/N)-a3*np.cos(6*np.pi*n/N)+a4*np.cos(8*np.pi*n/N)"
      ],
      "execution_count": null,
      "outputs": []
    },
    {
      "cell_type": "code",
      "metadata": {
        "id": "n4hjEsNulyZY"
      },
      "source": [
        "# plot de cada uma das funções de janelamento definidas \n",
        "# na célula acima. Todos as funções mostradas no gráfico\n",
        "# variam de -5 a 5, possuem 101 amostras.\n",
        "\n",
        "w = 10\n",
        "N = 101\n",
        "plt.plot(np.linspace(-w/2, w/2, N), hannWindow(N), color='r')\n",
        "plt.plot(np.linspace(-w/2, w/2, N), hammingWindow(N), color='g')\n",
        "plt.plot(np.linspace(-w/2, w/2, N), gaussianWindow(N), color='b')\n",
        "plt.plot(np.linspace(-w/2, w/2, N), blackmanHarrisWindow(N), color='k')\n",
        "plt.plot(np.linspace(-w/2, w/2, N), flattopWindow(N), color='gray')"
      ],
      "execution_count": null,
      "outputs": []
    },
    {
      "cell_type": "markdown",
      "metadata": {
        "id": "4p-rEkt_s1yf"
      },
      "source": [
        "**ATENÇÃO**: Fique atento ao tamanho das funções e da quantidade de amostas da função de janelamento em cada uma das questões. Não é preciso usar *w=10* e/ou *N=101* para obter as respostas, mas uma combinação que melhor se adeque às suas explicações.\n",
        "\n",
        "---\n",
        "\n",
        "Responda:"
      ]
    },
    {
      "cell_type": "markdown",
      "metadata": {
        "id": "CE-Em8Xcsrsd"
      },
      "source": [
        "**1.** Crie uma função que faça o plot da transformada de Fourier de cada uma das cinco funções de janelamento definidas nesse notebook. Você pode utilizar subplot para mostrar cada **dft** em um plot diferente."
      ]
    },
    {
      "cell_type": "code",
      "metadata": {
        "id": "T__rJ1M2ly0h"
      },
      "source": [
        ""
      ],
      "execution_count": null,
      "outputs": []
    },
    {
      "cell_type": "markdown",
      "metadata": {
        "id": "bAmu7UeztdJZ"
      },
      "source": [
        "**2.** Crie uma função que calcule a média móvel do sinal que foi carregado na variável *data*."
      ]
    },
    {
      "cell_type": "code",
      "metadata": {
        "id": "reQLsZNUsrFa"
      },
      "source": [
        ""
      ],
      "execution_count": null,
      "outputs": []
    },
    {
      "cell_type": "markdown",
      "metadata": {
        "id": "NeCsBcYRt8th"
      },
      "source": [
        "**3.** Utilize a resposta da questão anterior para criar uma funçào de convolução, e faça a convolução do sinal na variável *data* com cada uma das cinco funções de janelamento."
      ]
    },
    {
      "cell_type": "code",
      "metadata": {
        "id": "nFdI1b0qt8Ig"
      },
      "source": [
        ""
      ],
      "execution_count": null,
      "outputs": []
    },
    {
      "cell_type": "markdown",
      "metadata": {
        "id": "fBRJ555pvOL_"
      },
      "source": [
        "**4.** Crie os seguintes sinais senoidais:\n",
        "  - $x_1[n] = \\sin(2\\pi f_0 n T_s)$\n",
        "  - $x_2[n] = \\sin(2\\pi f_0 n T_s + \\frac{\\pi}{2})$\n",
        "  - $x_3[n] = \\sin(2\\pi f_0 n T_s) + n[n]$\n",
        "\n",
        "onde $n[n]$ é um ruído branco gaussiano de variância $\\sigma^2=0.1$.\n",
        "\n",
        "Crie uma figura com a transformada de Fourier de cada sinal e comente sobre a diferença espectral de cada um deles."
      ]
    },
    {
      "cell_type": "code",
      "metadata": {
        "id": "bNMH-ISOyHjX"
      },
      "source": [
        ""
      ],
      "execution_count": null,
      "outputs": []
    },
    {
      "cell_type": "markdown",
      "metadata": {
        "id": "egyRJtvRyJcv"
      },
      "source": [
        "**5.** Utilize a janela gaussiana e a janela retangular em cada um dos sinais acima, faça a transformada de Fourier e comente sobre a difereça dos resultados.\n",
        "\n",
        "**OBS1**: Os sinais devem ter o mesmo tamanho da figura.\n",
        "\n",
        "**OBS2**: Faça os sinais serem de baixa frequência para que seja possível visualizar *facilmente* os efeitos em frequência."
      ]
    },
    {
      "cell_type": "code",
      "metadata": {
        "id": "7_2DpjaDvN1U"
      },
      "source": [
        ""
      ],
      "execution_count": null,
      "outputs": []
    },
    {
      "cell_type": "markdown",
      "metadata": {
        "id": "0EXzOtiKuey8"
      },
      "source": [
        "**6.** Com base em suas respostas nas questões anteirores, reflita e escreva sobre a diferença da transformada de Fourier em cada uma das janelas, e como essa diferença influencia nas respostas da janela?"
      ]
    },
    {
      "cell_type": "markdown",
      "metadata": {
        "id": "FnqVoBObuemR"
      },
      "source": [
        "Resp.:"
      ]
    },
    {
      "cell_type": "code",
      "metadata": {
        "id": "XlMHVV3-sq0L"
      },
      "source": [
        ""
      ],
      "execution_count": null,
      "outputs": []
    }
  ]
}