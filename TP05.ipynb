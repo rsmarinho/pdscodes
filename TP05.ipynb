{
  "nbformat": 4,
  "nbformat_minor": 0,
  "metadata": {
    "colab": {
      "name": "TP05.ipynb",
      "provenance": [],
      "collapsed_sections": [],
      "mount_file_id": "1XD1W7kcScXJGVeiOeETtekk0sqs2AZ6a",
      "authorship_tag": "ABX9TyPavYBHUbLIOcT+qVIYBlUz",
      "include_colab_link": true
    },
    "kernelspec": {
      "name": "python3",
      "display_name": "Python 3"
    }
  },
  "cells": [
    {
      "cell_type": "markdown",
      "metadata": {
        "id": "view-in-github",
        "colab_type": "text"
      },
      "source": [
        "<a href=\"https://colab.research.google.com/github/rsmarinho/pdscodes/blob/master/TP05.ipynb\" target=\"_parent\"><img src=\"https://colab.research.google.com/assets/colab-badge.svg\" alt=\"Open In Colab\"/></a>"
      ]
    },
    {
      "cell_type": "code",
      "metadata": {
        "id": "-Ab9Y_cj0-y7"
      },
      "source": [
        "# here goes your include modules...\n",
        "import numpy as np\n",
        "import matplotlib.pyplot as plt\n",
        "\n",
        "# in this TP we will use scipy module to read the files\n",
        "from scipy.io import wavfile\n",
        "# if you rather to use librosa, use the lines below\n",
        "import librosa\n",
        "\n",
        "# below are the module used to play the audio vectors in jupyterlab\n",
        "from IPython.display import Audio"
      ],
      "execution_count": null,
      "outputs": []
    },
    {
      "cell_type": "markdown",
      "metadata": {
        "id": "4ZTx4v-36g7F"
      },
      "source": [
        "**TP04 - Espectrograma.**\n",
        "\n",
        "---\n",
        "\n",
        "O espectrograma é uma representação visual da variação do espectro de frequência ao longo do tempo. Um formato comum do espectrograma é um gráfico de duas dimensões geométricas, um eixo é o eixo de representaçõa temporal e o outro é o de representação frequêncial.\n",
        "\n",
        "O espectrograma pode ser gerado de várias maneiras, seja com um banco de filtros (*filterbank*) ou com a utilização da transformada de Fourier (DFT). Nesse exemplo utilzaremos a transformada rápida de Fourier (FFT) para criação do espectrograma."
      ]
    },
    {
      "cell_type": "markdown",
      "metadata": {
        "id": "cptHIf_f8Ef8"
      },
      "source": [
        "Este trabalho prático será utilizado no intuito de estudar diferentes tipos de visualização de informação, bem como de aumentar sua proficiência na manipulação de sinais digitais."
      ]
    },
    {
      "cell_type": "code",
      "metadata": {
        "id": "_cE0t7bI1o3r"
      },
      "source": [
        "# O arquivo de audio utilizado está no github, antes de \n",
        "# fazer as células funcionarem faça o download do arquivo \n",
        "# caprice24mono.wav e coloque-o em uma pasta no drive \n",
        "# para que você possa utilizá-lo com o google colab.\n",
        "\n",
        "# O arquivo caprice24mono.wav é um extrato do arquivo\n",
        "# encontrado em https://en.wikipedia.org/wiki/File:Paganini_Caprice-24.ogg\n",
        "# O intervalo do arquivo é entre os segundos 27 e 32, e\n",
        "# foi escolhido pois é possível escutar com nitidez os dois\n",
        "# instrumentos (violino e piano).\n",
        "\n",
        "data_sr, data = wavfile.read('/content/drive/caprice24mono.wav')\n",
        "Audio(data, rate=data_sr)"
      ],
      "execution_count": null,
      "outputs": []
    },
    {
      "cell_type": "markdown",
      "metadata": {
        "id": "33ZnUmno-675"
      },
      "source": [
        "O espectograma de um sinal unidimensional é obtido com o cálculo da FFT de uma janela (intervalo do sinal). Essa janela \"*anda*\" ao longo do tempo e podem se sobrepor ou não. A movimentação dessa janela ao longo do tempo é definida por um *overlap*, e no caso do overlap ter o mesmo tamanho da janela, então as janelas não se sobrepõem.\n",
        "\n",
        "As células abaixo contém uma função cada. A primeira calcula a fft de um intervalo do sinal, e a segunda retornam uma *matriz* com o espectograma calculado."
      ]
    },
    {
      "cell_type": "code",
      "metadata": {
        "id": "B14UHM9912M0"
      },
      "source": [
        "# Calcula a FFT de um intervalo do sinal s.\n",
        "# O intervalo é definido pelas variáveis a e b\n",
        "# em uma versão mais completa (sem os comentários)\n",
        "# a função retorna também os índices de frequência\n",
        "# da fft\n",
        "\n",
        "def getFFTFromWindow(s, a, b, fs=data_sr):\n",
        "    sig = s[a:b]\n",
        "    fftsig = np.fft.fft(sig)\n",
        "    fftsig = np.fft.fftshift(fftsig)\n",
        "\n",
        "    N = len(fftsig)\n",
        "    # freq = np.fft.fftfreq(N, 1/fs)\n",
        "    # freq = np.fft.fftshift(freq)\n",
        "\n",
        "    # return freq[:int(N/2):], fftsig[:int(N/2)]\n",
        "    return fftsig[:int(N/2)]"
      ],
      "execution_count": null,
      "outputs": []
    },
    {
      "cell_type": "code",
      "metadata": {
        "id": "W5rNyruJ14Gh"
      },
      "source": [
        "# Retorna o espectrograma de um sinal data\n",
        "# A variável fs é a frequência de amostragem do sinal\n",
        "# data (não é utilizado no código). Nessa função é \n",
        "# importante definir o tamanho da janela (window) e \n",
        "# qual é a sobre posição das janelas (overlap) para \n",
        "# o cálculo da fft do intervalo do sinal\n",
        "\n",
        "def spectrogram(data, fs, window=1000, overlap=500):\n",
        "    total = len(data)\n",
        "\n",
        "    spectrogram = np.empty((1, int(window/2)))\n",
        "    \n",
        "    i = 0\n",
        "    while True:\n",
        "      spec = getFFTFromWindow(data, i*overlap, i*overlap + window)\n",
        "\n",
        "      if len(spec) != int(window/2):\n",
        "        break\n",
        "      spectrogram = np.vstack((spectrogram, np.abs(spec[:])))\n",
        "      i+=1\n",
        "\n",
        "    return np.absolute(spectrogram.T)"
      ],
      "execution_count": null,
      "outputs": []
    },
    {
      "cell_type": "markdown",
      "metadata": {
        "id": "0w_IlH08Agdv"
      },
      "source": [
        "Uma das maneiras de visualizar e compreender o espectrograma é **\"como o sinal varia em frequência ao longo do tempo\"**, para isso a visualização em 3d da matriz do espectrograma é uma boa maneira de proceder."
      ]
    },
    {
      "cell_type": "code",
      "metadata": {
        "id": "hnx4Qy1y16z_"
      },
      "source": [
        "from mpl_toolkits.mplot3d import Axes3D\n",
        "\n",
        "# Cálculo e visualização do espectrograma de \n",
        "# um sinal de voz (data), com janelamento de 1000\n",
        "# amostras e overlap de 100 amostras.\n",
        "\n",
        "\n",
        "# Cálculo do espectrograma\n",
        "spectro = spectrogram(data, data_sr, window=1000, overlap=100)\n",
        "\n",
        "# Visualização da matriz do espectrograma\n",
        "# Set up grid and test data\n",
        "ny = np.shape(spectro)[0]\n",
        "nx = np.shape(spectro)[1]\n",
        "\n",
        "x = range(nx)\n",
        "y = range(ny)\n",
        "\n",
        "hf = plt.figure()\n",
        "ha = hf.add_subplot(111, projection='3d')\n",
        "\n",
        "X, Y = np.meshgrid(x, y)\n",
        "ha.plot_surface(X, Y, spectro)\n",
        "\n",
        "plt.show()"
      ],
      "execution_count": null,
      "outputs": []
    },
    {
      "cell_type": "markdown",
      "metadata": {
        "id": "9zLDhxXUCNpa"
      },
      "source": [
        "De uma maneira mais simples, a matriz do espectrograma é *explicada* como uma matriz de intensidades (já que em nosso caso a função espectrograma retorna a magnitude do sinal). Daí a visualização em 2d.\n",
        "\n",
        "Note que os atributos *vmin* e *vmax* são utilizados para melhor vizualização."
      ]
    },
    {
      "cell_type": "code",
      "metadata": {
        "id": "vEmMTzFw19Ru"
      },
      "source": [
        "plt.imshow(spectro/np.mean(spectro), aspect='auto', cmap='inferno', vmin=0, vmax=8)"
      ],
      "execution_count": null,
      "outputs": []
    },
    {
      "cell_type": "markdown",
      "metadata": {
        "id": "IVkttH-C_Iyu"
      },
      "source": [
        "Responda:"
      ]
    },
    {
      "cell_type": "markdown",
      "metadata": {
        "id": "m76NUP-3_Krv"
      },
      "source": [
        "**1.** Explique com suas palavras como é extraído o espectrograma de um sinal."
      ]
    },
    {
      "cell_type": "markdown",
      "metadata": {
        "id": "jsS9H3-Z_hXu"
      },
      "source": [
        ""
      ]
    },
    {
      "cell_type": "markdown",
      "metadata": {
        "id": "X0OYz1bK_hzM"
      },
      "source": [
        "**2.** Modifique a função spectrogram para que diferentes tipos de janelas possam ser utilizados na variável *data* no interior da função spectrogram."
      ]
    },
    {
      "cell_type": "code",
      "metadata": {
        "id": "7ttXRYvR60Tw"
      },
      "source": [
        ""
      ],
      "execution_count": null,
      "outputs": []
    },
    {
      "cell_type": "markdown",
      "metadata": {
        "id": "ikavBLK-_2HS"
      },
      "source": [
        "**3.** Faça um espectrograma com utilizando um janelamento do tipo gaussiano e faça o plot de visualização utilizando\n",
        "```\n",
        "plt.imshow(spectro/np.mean(spectro), aspect='auto', cmap='inferno', vmin=0, vmax=8)\n",
        "```\n",
        "\n",
        "O que aconteceu? Agora utilize\n",
        "```\n",
        "plt.imshow(spectro, aspect='auto', cmap='inferno', vmin=0, vmax=1)\n",
        "```\n",
        "\n",
        "Explique."
      ]
    },
    {
      "cell_type": "code",
      "metadata": {
        "id": "35YaAE07ErwE"
      },
      "source": [
        ""
      ],
      "execution_count": null,
      "outputs": []
    },
    {
      "cell_type": "markdown",
      "metadata": {
        "id": "NRBdtCIZEp73"
      },
      "source": [
        ""
      ]
    },
    {
      "cell_type": "markdown",
      "metadata": {
        "id": "srbKhbkKBSYm"
      },
      "source": [
        "**4.** Crie um vetor com a representação da função [chirp](https://en.wikipedia.org/wiki/Chirp) e visualize o espectrograma. Explique o que acontece."
      ]
    },
    {
      "cell_type": "code",
      "metadata": {
        "id": "HsN23Tl7BR-S"
      },
      "source": [
        ""
      ],
      "execution_count": null,
      "outputs": []
    },
    {
      "cell_type": "markdown",
      "metadata": {
        "id": "ZDuCmVYRBnLQ"
      },
      "source": [
        "**5.** Um sinal FM é um sinal que tem a frequência de uma sinal de frequência portadora modificado por um sinal de mensagem. De maneira carente de precisão, pode-se dizer que um sinal FM é representado por $$s_{fm} = \\sin(2\\pi f_0t + \\beta\\sin(2\\pi f_m t))$$\n",
        "onde $f_0$ é a frequencia de portadora, $f_m$ é a frequência do sinal de mensagem e $\\beta$ é o índice de modulação (para mais informações ver [aqui](https://www.rfcafe.com/references/electrical/frequency-modulation.htm) ou [aqui](http://paginapessoal.utfpr.edu.br/alessandro/disciplinas-do-semestre/principios-de-comunicacao/aulas/segunda-prova/Modulacao%20Angular.pdf)).\n",
        "\n",
        "Crie um sinal FM e proceda com a visualização do espectrograma desse sinal. Você deve visualizar uma senoide. Como deve ser a visualização de um sinal AM (explique) ?"
      ]
    },
    {
      "cell_type": "code",
      "metadata": {
        "id": "0OhqNdzPAT_L"
      },
      "source": [
        ""
      ],
      "execution_count": null,
      "outputs": []
    }
  ]
}