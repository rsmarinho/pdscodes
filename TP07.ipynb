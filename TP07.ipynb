{
  "nbformat": 4,
  "nbformat_minor": 0,
  "metadata": {
    "language_info": {
      "codemirror_mode": {
        "name": "ipython",
        "version": 3
      },
      "file_extension": ".py",
      "mimetype": "text/x-python",
      "name": "python",
      "nbconvert_exporter": "python",
      "pygments_lexer": "ipython3",
      "version": 3
    },
    "orig_nbformat": 2,
    "kernelspec": {
      "name": "python_defaultSpec_1596043286648",
      "display_name": "Python 3.7.7 64-bit"
    },
    "colab": {
      "name": "TP07.ipynb",
      "provenance": [],
      "collapsed_sections": [],
      "include_colab_link": true
    }
  },
  "cells": [
    {
      "cell_type": "markdown",
      "metadata": {
        "id": "view-in-github",
        "colab_type": "text"
      },
      "source": [
        "<a href=\"https://colab.research.google.com/github/rsmarinho/pdscodes/blob/master/TP07.ipynb\" target=\"_parent\"><img src=\"https://colab.research.google.com/assets/colab-badge.svg\" alt=\"Open In Colab\"/></a>"
      ]
    },
    {
      "cell_type": "code",
      "metadata": {
        "id": "BOVjXSz8q7no"
      },
      "source": [
        "# here goes your include modules...\n",
        "import numpy as np\n",
        "import matplotlib.pyplot as plt\n",
        "\n",
        "# in this TP we will use scipy modul to read the files\n",
        "from scipy.io import wavfile\n",
        "# if you rather to use librosa, use the lines below\n",
        "import librosa\n",
        "\n",
        "# below are the module used to play the audio vectors in jupyterlab\n",
        "from IPython.display import Audio\n",
        "\n"
      ],
      "execution_count": null,
      "outputs": []
    },
    {
      "cell_type": "markdown",
      "metadata": {
        "id": "bFJgTCuirAbT"
      },
      "source": [
        "**TP07 - Sistemas de comunicação (Digital).**\n",
        "\n",
        "---\n",
        "\n",
        "Sistemas de comunicação modernos utilizam modulações digitais para diminuir as alterações do sinal enviado ao longo do canal. Na modulação anaógica as alterações exercidas pelo canal implica em uma alta sensibilidade da informação que trafega por um canal.\n",
        "\n",
        "Nesse TP, utilizaremos dois tipos de modulação, BPSK e QPSK. Bem como nos outros trabalhos, vamos primeiramente tentar compreender as ferramentas para posteriormente resolver uma série de problemas propostos. \n",
        "\n",
        "Muita atenção nesse TP, você deverá utilizar muita informação adquirida ao longo do curso e que está dormente em seu cérebro..."
      ]
    },
    {
      "cell_type": "code",
      "metadata": {
        "id": "-26u3wUUMlM-"
      },
      "source": [
        "sigSize = 10\n",
        "data = np.array([np.random.randint(0,2) for i in range(sigSize)])\n",
        "\n",
        "print(data)"
      ],
      "execution_count": null,
      "outputs": []
    },
    {
      "cell_type": "code",
      "metadata": {
        "id": "eUBivPa-NWXz"
      },
      "source": [
        "# Eb = bit energy\n",
        "# Tb = bit duration\n",
        "# sr = sample rate\n",
        "def bpsk_signaling(data, Eb=1, Tb=2, sr=10):\n",
        "  N = len(data)\n",
        "  sig_timelength = int(N*Tb)\n",
        "  t = np.linspace(0, sig_timelength, N*sr)\n",
        "  \n",
        "  signaling = np.zeros((N, sr))\n",
        "  for i in range(N):\n",
        "    signaling[i,:] = data[i]\n",
        "  signaling = signaling.reshape(t.shape)\n",
        "  signaling = 2 * Eb * signaling - Eb\n",
        "  return t, signaling\n",
        "\n",
        "def bpsk(data, Eb=1, Tb=2, freq=2, sr=10):\n",
        "  t, s = bpsk_signaling(data, Eb=Eb, Tb=Tb, sr=sr)    \n",
        "  return t, np.sqrt(2*Eb/Tb) * np.cos(2*np.pi*freq* t) * s"
      ],
      "execution_count": null,
      "outputs": []
    },
    {
      "cell_type": "code",
      "metadata": {
        "id": "c5y5C9zYR2_1"
      },
      "source": [
        "t, s = bpsk_signaling(data, sr = 3)\n",
        "print(s)\n",
        "plt.plot(t,s)"
      ],
      "execution_count": null,
      "outputs": []
    },
    {
      "cell_type": "code",
      "metadata": {
        "id": "0HozodOZkpUn"
      },
      "source": [
        "t, s = bpsk(data, Eb = 1, freq = 2, Tb = 1, sr = 44100)\n",
        "plt.plot(t, s)"
      ],
      "execution_count": null,
      "outputs": []
    },
    {
      "cell_type": "code",
      "metadata": {
        "id": "LXdqa4CYblGK"
      },
      "source": [
        "t, s = bpsk(data, Eb = 0.1, freq = 1000, Tb = 1, sr = 44100)"
      ],
      "execution_count": null,
      "outputs": []
    },
    {
      "cell_type": "code",
      "metadata": {
        "id": "x_vO9jOQcqwb"
      },
      "source": [
        " Audio(s, rate=44100)"
      ],
      "execution_count": null,
      "outputs": []
    },
    {
      "cell_type": "code",
      "metadata": {
        "id": "F1Qead3nlRDC"
      },
      "source": [
        "# Eb = bit energy\n",
        "# Tb = bit duration\n",
        "# sr = sample rate\n",
        "def qpsk_signaling(data, Eb=1, Tb=2, sr=10):\n",
        "  N = int(len(data)/2)\n",
        "\n",
        "  I_sig = [i for i in range(data.size) if i % 2 == 0]\n",
        "  Q_sig = [i for i in range(data.size) if i % 2 == 1]\n",
        "\n",
        "  sig_timelength = int(N*Tb)\n",
        "  t = np.linspace(0, sig_timelength, N*sr)\n",
        "  \n",
        "  I_signaling = np.zeros((N, sr))\n",
        "  Q_signaling = np.zeros((N, sr))\n",
        "  \n",
        "  for i in range(N):\n",
        "    I_signaling[i,:] = data[int(I_sig[i])]\n",
        "    Q_signaling[i,:] = data[int(Q_sig[i])]\n",
        "  I_signaling = I_signaling.reshape(t.shape)\n",
        "  Q_signaling = Q_signaling.reshape(t.shape)\n",
        "\n",
        "  I_signaling = 2 * Eb * I_signaling - Eb\n",
        "  Q_signaling = 2 * Eb * Q_signaling - Eb\n",
        "  return t, I_signaling, Q_signaling\n",
        "\n",
        "def qpsk(data, Eb=1, Tb=2, freq=2, sr=10):\n",
        "  t, i_s, q_s = qpsk_signaling(data, Eb=Eb, Tb=Tb, sr=sr)    \n",
        "  return t, np.sqrt(2*Eb/Tb) * ( np.sin(2*np.pi*freq* t) * i_s + np.cos(2*np.pi*freq* t) * q_s )"
      ],
      "execution_count": null,
      "outputs": []
    },
    {
      "cell_type": "code",
      "metadata": {
        "id": "7EyZ4tC2nOaH"
      },
      "source": [
        "t, i_s, q_s = qpsk_signaling(data, sr = 6)\n",
        "# print(i_s)\n",
        "# print(q_s)\n",
        "plt.plot(t, i_s)\n",
        "plt.plot(t, q_s)"
      ],
      "execution_count": null,
      "outputs": []
    },
    {
      "cell_type": "code",
      "metadata": {
        "id": "Q2uscCe-ojhQ"
      },
      "source": [
        "t, s = qpsk(data, Eb = 1, freq = 2, Tb = 1, sr = 44100)\n",
        "plt.plot(t, s)"
      ],
      "execution_count": null,
      "outputs": []
    },
    {
      "cell_type": "code",
      "metadata": {
        "id": "6K7uHXFarTSj"
      },
      "source": [
        "t, s = qpsk(data, Eb = 0.1, freq = 1000, Tb = 1, sr = 44100)\n",
        "Audio(s, rate=44100)"
      ],
      "execution_count": null,
      "outputs": []
    },
    {
      "cell_type": "markdown",
      "metadata": {
        "id": "1tIHDedB8V31"
      },
      "source": [
        "---"
      ]
    },
    {
      "cell_type": "markdown",
      "metadata": {
        "id": "R1OsT0g6uFjd"
      },
      "source": [
        "**1.** O código ``` t, s = bpsk(data, Eb = 1, freq = 1000, Tb = 1, sr = 44100)``` gera um sinal bpsk modulado em uma frequência de amostragem de 44100 Hz a partir de uma sequência binária ```data```. A frequência da onda portadora do sinal é de 1 kHz. Utilizando seus conhecimento de PDS, Comunicação Digital e Processos Estocásticos, faça uma função que retorne a sequência original ```data``` a partir do sinal bpsk.\n",
        "\n",
        "DICA: Suponha que o sinal é síncrono, ou seja, que você sabe quando é o início e o fim de cada símbolo, e calcule a ortogonalidade de funções conhecidas de mesmo tamanho."
      ]
    },
    {
      "cell_type": "code",
      "metadata": {
        "id": "upfSbTAtvhh3"
      },
      "source": [
        ""
      ],
      "execution_count": null,
      "outputs": []
    },
    {
      "cell_type": "markdown",
      "metadata": {
        "id": "N5Qw3Ozhvh76"
      },
      "source": [
        "**2.** Um canal AWGN é um canal aditivo que adiciona (Aditive) ao sinal enviado ruído branco gaussiano (White Gaussian Noise). Em simulação um canal desse tipo é usualmente simulado com uma função geradora de números aleatórios com distribuição normal (```randn()```). A variancia de uma variável aleatória simulada pode ser variada multiplicando a função randn() por um valor que indica o desvio padrão da função de distribuição. Então, por exemplo:"
      ]
    },
    {
      "cell_type": "code",
      "metadata": {
        "id": "esNGB9OPmZqp"
      },
      "source": [
        "plt.subplot(211)\n",
        "plt.hist(np.random.randn(10000),bins=100)\n",
        "plt.xlim([-6,6])\n",
        "\n",
        "plt.subplot(212)\n",
        "plt.hist(np.random.randn(10000)*2,bins=100)\n",
        "plt.xlim([-6,6])"
      ],
      "execution_count": null,
      "outputs": []
    },
    {
      "cell_type": "markdown",
      "metadata": {
        "id": "cnOSwhnYz981"
      },
      "source": [
        "Ou seja, no caso de definir o sinal/canal em função da relação sinal ruído (SNR) devemos proseguir da seguinte forma:\n",
        "```\n",
        "   variance = 10^(-snr/10);\n",
        "   noise = sqrt(variance)*randn();\n",
        "```\n",
        "Por exemplo:"
      ]
    },
    {
      "cell_type": "code",
      "metadata": {
        "id": "rBNVneq_yBd_"
      },
      "source": [
        "def normal_pdf(x, mu=0, sigma=1):\n",
        "    sqrt_two_pi = np.sqrt(np.pi * 2)\n",
        "    return (1 / (sqrt_two_pi * sigma)) * np.exp(-0.5 * np.power((x - mu)/sigma, 2) )\n",
        "\n",
        "snr = np.array([0.5, 10])\n",
        "\n",
        "variance = np.power(10,(-snr/10))\n",
        "noise = np.random.randn(10000);\n",
        "\n",
        "plt.subplot(211)\n",
        "# plot do histograma\n",
        "plt.hist(noise*np.sqrt(variance[0]),bins=100,density=True)\n",
        "# plot da FDP gaussiana\n",
        "plt.plot(np.linspace(-6,6), normal_pdf(np.linspace(-6,6), sigma=np.sqrt(variance[0])), 'r')\n",
        "plt.xlim([-6,6])\n",
        "\n",
        "plt.subplot(212)\n",
        "# plot do histograma\n",
        "plt.hist(noise*np.sqrt(variance[1]),bins=100,density=True)\n",
        "# plot da FDP gaussiana\n",
        "plt.plot(np.linspace(-6,6), normal_pdf(np.linspace(-6,6), sigma=np.sqrt(variance[1])), 'r')\n",
        "plt.xlim([-6,6])"
      ],
      "execution_count": null,
      "outputs": []
    },
    {
      "cell_type": "markdown",
      "metadata": {
        "id": "wp_V6PKV5Yy_"
      },
      "source": [
        "Com base nessas informações, faça um modelo de canal em que o sinal enviado seja corrompido por ruído aditivo gaussiano de diferentes valores de energia, e utilize a função da questão 01 para obter a sequência de bits a partir do sinal corrompido. \n",
        "\n",
        "Em outras palavras: varie a SNR (0.1, 0.2, 1, 5, 10, por exemplo), e utilize a função que você criou na questão 1 para tentar obter a sequência original."
      ]
    },
    {
      "cell_type": "code",
      "metadata": {
        "id": "Ta5uAfZL0tGB"
      },
      "source": [
        ""
      ],
      "execution_count": null,
      "outputs": []
    }
  ]
}