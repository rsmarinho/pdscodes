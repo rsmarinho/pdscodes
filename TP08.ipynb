{
  "nbformat": 4,
  "nbformat_minor": 0,
  "metadata": {
    "colab": {
      "name": "TP08.ipynb",
      "provenance": [],
      "authorship_tag": "ABX9TyOc0Bhn6A2mWp+EUtRqAFNO",
      "include_colab_link": true
    },
    "kernelspec": {
      "name": "python3",
      "display_name": "Python 3"
    },
    "language_info": {
      "name": "python"
    }
  },
  "cells": [
    {
      "cell_type": "markdown",
      "metadata": {
        "id": "view-in-github",
        "colab_type": "text"
      },
      "source": [
        "<a href=\"https://colab.research.google.com/github/rsmarinho/pdscodes/blob/master/TP08.ipynb\" target=\"_parent\"><img src=\"https://colab.research.google.com/assets/colab-badge.svg\" alt=\"Open In Colab\"/></a>"
      ]
    },
    {
      "cell_type": "code",
      "metadata": {
        "id": "dMpN03Onyblf"
      },
      "source": [
        "# here goes your include modules...\n",
        "import numpy as np\n",
        "import matplotlib.pyplot as plt\n",
        "\n",
        "# in this TP we will use scipy modul to read the files\n",
        "from scipy.io import wavfile\n",
        "# if you rather to use librosa, use the lines below\n",
        "import librosa\n",
        "\n",
        "# below are the module used to play the audio vectors in jupyterlab\n",
        "from IPython.display import Audio"
      ],
      "execution_count": null,
      "outputs": []
    },
    {
      "cell_type": "markdown",
      "metadata": {
        "id": "FHyNvXdLynOv"
      },
      "source": [
        "**TP07 - Sistemas de comunicação (Digital).**\n",
        "\n",
        "---\n",
        "\n",
        "Sistemas de comunicação modernos utilizam modulações digitais para diminuir as alterações do sinal enviado ao longo do canal. Na modulação analógica as alterações no canal implicam em grande variação do sinal de mensagem e consequente dificuldade na recepção do sinal.\n",
        "\n",
        "Nesse TP utilizaremos a modulação BPSK. Bem como nos outros trabalhos, vamos primeiramente tentar compreender as ferramentas para posteriormente resolver uma série de problemas propostos. \n",
        "\n",
        "Muita atenção nesse TP, você deverá utilizar muita informação adquirida ao longo do curso e que está dormente em seu cérebro..."
      ]
    },
    {
      "cell_type": "markdown",
      "metadata": {
        "id": "8vqm_THXCv-N"
      },
      "source": [
        "---\n",
        "A célula abaixo gera uma sequência de bits aleatória de tamanho ```sigSize```. A variável data é um vetor (array numpy) que guarda os bits para posterior processamento."
      ]
    },
    {
      "cell_type": "code",
      "metadata": {
        "id": "rjIOiUYYynCN"
      },
      "source": [
        "sigSize = 10\n",
        "data = np.array([np.random.randint(0,2) for i in range(sigSize)])\n",
        "\n",
        "print(data)"
      ],
      "execution_count": null,
      "outputs": []
    },
    {
      "cell_type": "markdown",
      "metadata": {
        "id": "49ipGE4SDS1L"
      },
      "source": [
        "Abaixo são descritas duas funções importantes para nossos exemplos e no processo de modulação digital.\n",
        "\n",
        "A função ```bpsk_signaling()``` *transforma* o sinal de bits na forma (0,1) em um sinal na forma (-Eb, +Eb). Esse é um sinal importante para nossos exemplos pois definimos que a modulação *BPSK* têm simbolos defasados em $180^o$.\n",
        "\n",
        "A função ```bpsk``` assume um $cos(\\cdot)$ de frequência ```freq``` como onda portadora."
      ]
    },
    {
      "cell_type": "code",
      "metadata": {
        "id": "j-MEUDmwzDGm"
      },
      "source": [
        "# Tb = bit duration\n",
        "# sr = sample rate\n",
        "# Eb = symbol energy\n",
        "# freq = carrier frequency\n",
        "\n",
        "def bpsk_signaling(data, Eb=1, Tb=2, sr=10):\n",
        "  N = len(data)\n",
        "  sig_timelength = int(N*Tb)\n",
        "  t = np.linspace(0, sig_timelength, N*sr)\n",
        "  \n",
        "  signaling = np.zeros((N, sr))\n",
        "  for i in range(N):\n",
        "    signaling[i,:] = data[i]\n",
        "  signaling = signaling.reshape(t.shape)\n",
        "  signaling = 2 * Eb * signaling - Eb\n",
        "  return t, signaling\n",
        "\n",
        "def bpsk(data, Eb=1, Tb=2, freq=2, sr=10):\n",
        "  t, s = bpsk_signaling(data, Eb=Eb, Tb=Tb, sr=sr)    \n",
        "  return t, np.sqrt(2*Eb/Tb) * np.cos(2*np.pi*freq* t) * s"
      ],
      "execution_count": null,
      "outputs": []
    },
    {
      "cell_type": "code",
      "metadata": {
        "id": "lwwHV9UczEmp"
      },
      "source": [
        "fig = plt.figure(figsize=(12,7))\n",
        "\n",
        "# -----------\n",
        "# First plot\n",
        "# -----------\n",
        "sr = 3\n",
        "Tb = 2\n",
        "\n",
        "# Signaling signal creation\n",
        "t, s = bpsk_signaling(data, sr = sr, Tb=Tb)\n",
        "\n",
        "# plot\n",
        "plt.subplot(211)\n",
        "for i in range(0, sigSize+1):\n",
        "  plt.vlines(i*Tb, -1, 1, colors='red', linestyles='dotted')\n",
        "plt.plot(t, s, 'k')\n",
        "\n",
        "# -----------\n",
        "# Second plot\n",
        "# -----------\n",
        "sr = 44100\n",
        "Tb = 1\n",
        "Eb = 1\n",
        "fc = 2\n",
        "\n",
        "# BPSK signal creation\n",
        "t, s = bpsk(data, Eb = Eb, freq = fc, Tb = Tb, sr = sr)\n",
        "\n",
        "# plot\n",
        "plt.subplot(212)\n",
        "for i in range(0, sigSize+1):\n",
        "  plt.vlines(i*Tb, -2*Eb, 2*Eb, colors='red', linestyles='dotted')\n",
        "plt.plot(t, s)"
      ],
      "execution_count": null,
      "outputs": []
    },
    {
      "cell_type": "markdown",
      "metadata": {
        "id": "v_mL17NukHFR"
      },
      "source": [
        "Em um sistema de comunicação digital ou analógico os sinais que chegam ao receptor são analógicos. O que significa que caso a computação/processamento do sinal seja feito de forma digital é preciso que o sinal recebido seja amostrado. Suponha a seguinte cadeia de recepção (simplificada):\n",
        "\n",
        "<img src=\"https://raw.githubusercontent.com/rsmarinho/pdscodes/master/f_tp08png.png\" alt=\"VCVS\" width=\"80%\"/>\n",
        "\n",
        "O sinal $\\hat{m}(t)$ é o sinal de mensagem corompido pelo canal. Esse é um sinal analógico, em frequência de rádio (dependendo do canal). Esse sinal passa por um *front-end* que tenta \"*melhorar*\" o sinal. Na saída do bloco de *RF* o sinal é transformado em *banda base* e somente então é amostrado. esse sinal amostrado pode então ser demodulado.\n",
        "\n",
        "Nos exercícios abaixo vamos supor que o sinal que estamos trabalhando é o sinal **no receptor** corrompido pelo canal e amostrado após o *front-end* de recepção. Ou seja:"
      ]
    },
    {
      "cell_type": "code",
      "metadata": {
        "id": "oDVx7kFpqA9u"
      },
      "source": [
        "fig = plt.figure(figsize=(12,3))\n",
        "\n",
        "n = np.random.randn(s.size)\n",
        "std_dev = 0.2\n",
        "\n",
        "for i in range(0, sigSize+1):\n",
        "  plt.vlines(i*Tb, -2*Eb, 2*Eb, colors='red', linestyles='dotted')\n",
        "plt.plot(t, s + n * std_dev, 'k')\n",
        "plt.plot(t, s, 'y')\n"
      ],
      "execution_count": null,
      "outputs": []
    },
    {
      "cell_type": "markdown",
      "metadata": {
        "id": "u0q1h1kezoGT"
      },
      "source": [
        "---"
      ]
    },
    {
      "cell_type": "markdown",
      "metadata": {
        "id": "lbUlUXTLrgF4"
      },
      "source": [
        "**1.** Um canal AWGN é um canal aditivo que adiciona (Aditive) ao sinal enviado ruído branco gaussiano (White Gaussian Noise). Em simulação um canal desse tipo é usualmente simulado com uma função geradora de números aleatórios com distribuição normal (```randn()```). A variancia de uma variável aleatória simulada pode ser variada multiplicando a função ```randn()``` por um valor que indica o desvio padrão da função de distribuição. Então, por exemplo:"
      ]
    },
    {
      "cell_type": "code",
      "metadata": {
        "id": "ZGe7U-EDrxbS"
      },
      "source": [
        "fig = plt.figure(figsize=(10,3))\n",
        "\n",
        "plt.subplot(121)\n",
        "plt.hist(np.random.randn(10000),bins=100)\n",
        "plt.xlim([-6,6])\n",
        "\n",
        "plt.subplot(122)\n",
        "plt.hist(np.random.randn(10000)*2,bins=100)\n",
        "plt.xlim([-6,6])"
      ],
      "execution_count": null,
      "outputs": []
    },
    {
      "cell_type": "markdown",
      "metadata": {
        "id": "XEV-QvJyrwfG"
      },
      "source": [
        "Ou seja, no caso de definir o sinal/canal em função da relação sinal ruído (SNR) devemos proseguir da seguinte forma:\n",
        "```\n",
        "   variance = 10^(-snr/10);\n",
        "   noise = sqrt(variance)*randn();\n",
        "```\n",
        "Por exemplo:"
      ]
    },
    {
      "cell_type": "code",
      "metadata": {
        "id": "vwHV6HGysK0q"
      },
      "source": [
        "fig = plt.figure(figsize=(10,3))\n",
        "\n",
        "def normal_pdf(x, mu=0, sigma=1):\n",
        "    sqrt_two_pi = np.sqrt(np.pi * 2)\n",
        "    return (1 / (sqrt_two_pi * sigma)) * np.exp(-0.5 * np.power((x - mu)/sigma, 2) )\n",
        "\n",
        "snr = np.array([0.5, 8])\n",
        "\n",
        "variance = np.power(10,(-snr/10))\n",
        "noise = np.random.randn(10000);\n",
        "\n",
        "plt.subplot(121)\n",
        "# plot do histograma\n",
        "plt.hist(noise*np.sqrt(variance[0]),bins=100,density=True)\n",
        "# plot da FDP gaussiana\n",
        "plt.plot(np.linspace(-6,6), normal_pdf(np.linspace(-6,6), sigma=np.sqrt(variance[0])), 'r', lw=4)\n",
        "plt.xlim([-6,6])\n",
        "\n",
        "plt.subplot(122)\n",
        "# plot do histograma\n",
        "plt.hist(noise*np.sqrt(variance[1]),bins=100,density=True)\n",
        "# plot da FDP gaussiana\n",
        "plt.plot(np.linspace(-6,6), normal_pdf(np.linspace(-6,6), sigma=np.sqrt(variance[1])), 'r', lw=4)\n",
        "plt.xlim([-6,6])"
      ],
      "execution_count": null,
      "outputs": []
    },
    {
      "cell_type": "markdown",
      "metadata": {
        "id": "QuHwbDvOsKGd"
      },
      "source": [
        "Com base nessas informações, faça um modelo de canal em que o sinal enviado seja corrompido por ruído aditivo gaussiano de diferentes valores de energia. \n",
        "\n",
        "Em outras palavras: varie a SNR (0.1, 0.2, 1, 5, 10, por exemplo) e mostre os sinais de mensagem BPSK corrompidos."
      ]
    },
    {
      "cell_type": "markdown",
      "metadata": {
        "id": "NztKxg5uzrLC"
      },
      "source": [
        "**2.** O código ``` t, s = bpsk(data, Eb = 1, freq = 1000, Tb = 1, sr = 44100)``` gera um sinal bpsk modulado em uma frequência de amostragem de 44100 Hz a partir de uma sequência binária ```data```. A frequência da onda portadora do sinal é de 1 kHz. Utilizando seus conhecimento de PDS, Comunicação Digital e Processos Estocásticos, faça uma função que retorne a sequência original ```data``` a partir do sinal bpsk.\n",
        "\n",
        "DICA: Suponha que o sinal é síncrono, ou seja, que você sabe quando é o início e o fim de cada símbolo, e calcule a ortogonalidade (produto interno) entre funções conhecidas de **mesmo tamanho** do sinal recebido."
      ]
    }
  ]
}