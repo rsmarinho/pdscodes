{
  "nbformat": 4,
  "nbformat_minor": 0,
  "metadata": {
    "colab": {
      "name": "dft.ipynb",
      "provenance": [],
      "collapsed_sections": [],
      "authorship_tag": "ABX9TyMNJps8mtUDWHFBcQg33oP2",
      "include_colab_link": true
    },
    "kernelspec": {
      "name": "python3",
      "display_name": "Python 3"
    }
  },
  "cells": [
    {
      "cell_type": "markdown",
      "metadata": {
        "id": "view-in-github",
        "colab_type": "text"
      },
      "source": [
        "<a href=\"https://colab.research.google.com/github/rsmarinho/pdscodes/blob/master/dft.ipynb\" target=\"_parent\"><img src=\"https://colab.research.google.com/assets/colab-badge.svg\" alt=\"Open In Colab\"/></a>"
      ]
    },
    {
      "cell_type": "code",
      "metadata": {
        "id": "LBmHTt4B6os7"
      },
      "source": [
        "import numpy as np\n",
        "import matplotlib.pyplot as plt"
      ],
      "execution_count": null,
      "outputs": []
    },
    {
      "cell_type": "code",
      "metadata": {
        "id": "SYlaoutp-CyA"
      },
      "source": [
        "s = lambda t, f : np.sin(2 * np.pi * f * t)"
      ],
      "execution_count": null,
      "outputs": []
    },
    {
      "cell_type": "code",
      "metadata": {
        "id": "p5y9pVfr7h9P"
      },
      "source": [
        "N = 32\n",
        "start = 0\n",
        "end = 1\n",
        "\n",
        "dt = (end - start) / N\n",
        "\n",
        "f = 11\n",
        "t = np.arange(start, end, dt)\n",
        "plt.stem(t, s(t, f), use_line_collection=True)\n",
        "plt.plot(t, s(t, f), 'k')\n",
        "\n",
        "sr = 1/dt\n",
        "print(f'minimum sample rate: {(2 * f - 1)}')\n",
        "print(f'sample rate: {sr}')"
      ],
      "execution_count": null,
      "outputs": []
    },
    {
      "cell_type": "code",
      "metadata": {
        "id": "pTAZG4huonG0"
      },
      "source": [
        "def dft(x, n=512):\n",
        "  N = len(x)\n",
        "\n",
        "  t = np.linspace(0, N, N)\n",
        "  F = np.linspace(0, n-1, n)\n",
        "  \n",
        "  e = lambda f: np.exp(-1j * 2 * np.pi * f * t / N)\n",
        "  \n",
        "  ft = np.zeros((N, n), dtype = np.complex)\n",
        "  # print(t)\n",
        "  # print(F)\n",
        "  for k, f in enumerate(F):\n",
        "    ft[:, k] = e(f) * x\n",
        "\n",
        "  return F, np.sum(ft, axis = 0)"
      ],
      "execution_count": null,
      "outputs": []
    },
    {
      "cell_type": "code",
      "metadata": {
        "id": "67-mEZPCGhL1"
      },
      "source": [
        "N1=32\n",
        "\n",
        "f_, ft_ = dft(s(t,f), n=N1)\n",
        "\n",
        "fig = plt.figure(figsize=(15,4))\n",
        "\n",
        "plt.subplot(131)\n",
        "plt.stem(f_, np.abs(ft_)/N, use_line_collection=True)\n",
        "\n",
        "plt.subplot(132)\n",
        "plt.stem(f_, ft_.real, use_line_collection=True)\n",
        "\n",
        "plt.subplot(133)\n",
        "plt.stem(f_, ft_.imag, use_line_collection=True)"
      ],
      "execution_count": null,
      "outputs": []
    },
    {
      "cell_type": "code",
      "metadata": {
        "id": "ut0iCy1VqG81"
      },
      "source": [
        "ft = ft_[:int(N1/2)]\n",
        "ff = np.linspace(0, N1/2, int(N1/2))\n",
        "\n",
        "fig = plt.figure(figsize=(15,4))\n",
        "\n",
        "plt.subplot(131)\n",
        "plt.stem(ff, np.abs(ft), use_line_collection=True)\n",
        "\n",
        "plt.subplot(132)\n",
        "plt.stem(ft.real, use_line_collection=True)\n",
        "\n",
        "plt.subplot(133)\n",
        "plt.stem(ft.imag, use_line_collection=True)"
      ],
      "execution_count": null,
      "outputs": []
    },
    {
      "cell_type": "code",
      "metadata": {
        "id": "gtPQB_HVH9xV"
      },
      "source": [
        "start = 0\n",
        "end = 1\n",
        "N = 32\n",
        "time = (end - start)\n",
        "dt = time / N\n",
        "\n",
        "kf = lambda f, t : np.exp(-1j * 2 * np.pi * f * t / N)\n",
        "s = lambda t, f : np.sin(2 * np.pi * f * t)\n",
        "\n",
        "from ipywidgets import interact#, interactive, fixed, interact_manual\n",
        "import ipywidgets as widgets\n",
        "\n",
        "\n",
        "def plot_func(N, n, frq, end):\n",
        "  fig = plt.figure(figsize=(17,8))\n",
        "\n",
        "  time = (end - start)\n",
        "  dt = time / N\n",
        "\n",
        "  frq_f = np.linspace(0, n-1, n)\n",
        "  # t = np.linspace(0, N, N)\n",
        "  t = np.arange(start, end, dt)\n",
        "\n",
        "  k = kf(frq_f, time)\n",
        "  sig = s(t, frq)\n",
        "\n",
        "# plt 1 - normalized frequency\n",
        "  plt.subplot(121)\n",
        "  plt.axis([-1.2, 1.2, -1.2, 1.2])\n",
        "  plt.plot(k.real, k.imag)\n",
        "  for i in range(n):\n",
        "    plt.quiver([0], [0], k[i].real, k[i].imag, scale=2.5)\n",
        "\n",
        "# plt 2 - time domain\n",
        "  plt.subplot(222)\n",
        "  plt.stem(t, sig, use_line_collection=True)\n",
        "  plt.plot(t, sig, 'k')\n",
        "\n",
        "# plt 3 - frequency domain\n",
        "  plt.subplot(224)\n",
        "  f_, ft_ = dft(s(t,f), n=n)\n",
        "  ft = ft_[:int(n/2)+1]\n",
        "  ff = f_[:int(n/2)+1]\n",
        "  plt.stem(ff, np.abs(ft/n), use_line_collection=True)"
      ],
      "execution_count": null,
      "outputs": []
    },
    {
      "cell_type": "code",
      "metadata": {
        "id": "PehbznvPdnkH"
      },
      "source": [
        "interact(plot_func,\n",
        "      N=widgets.IntSlider(min=1, max=1024, step=1, value=360),\n",
        "      n=widgets.IntSlider(min=1, max=512, step=1, value=128),\n",
        "      frq=widgets.IntSlider(min=1, max=32, step=1, value=11),\n",
        "      end=widgets.IntSlider(min=1, max=4, step=1, value=1))"
      ],
      "execution_count": null,
      "outputs": []
    },
    {
      "cell_type": "code",
      "metadata": {
        "id": "QR4WVYL5z0uG"
      },
      "source": [
        ""
      ],
      "execution_count": null,
      "outputs": []
    }
  ]
}