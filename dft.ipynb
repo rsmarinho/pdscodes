{
  "nbformat": 4,
  "nbformat_minor": 0,
  "metadata": {
    "colab": {
      "name": "dft.ipynb",
      "provenance": [],
      "collapsed_sections": [],
      "authorship_tag": "ABX9TyMJPcr4tG4yhvRX2ugQKCsP",
      "include_colab_link": true
    },
    "kernelspec": {
      "name": "python3",
      "display_name": "Python 3"
    }
  },
  "cells": [
    {
      "cell_type": "markdown",
      "metadata": {
        "id": "view-in-github",
        "colab_type": "text"
      },
      "source": [
        "<a href=\"https://colab.research.google.com/github/rsmarinho/pdscodes/blob/master/dft.ipynb\" target=\"_parent\"><img src=\"https://colab.research.google.com/assets/colab-badge.svg\" alt=\"Open In Colab\"/></a>"
      ]
    },
    {
      "cell_type": "code",
      "metadata": {
        "id": "LBmHTt4B6os7"
      },
      "source": [
        "import numpy as np\n",
        "import matplotlib.pyplot as plt"
      ],
      "execution_count": null,
      "outputs": []
    },
    {
      "cell_type": "code",
      "metadata": {
        "id": "SYlaoutp-CyA"
      },
      "source": [
        "s = lambda t, f : np.sin(2 * np.pi * f * t)"
      ],
      "execution_count": null,
      "outputs": []
    },
    {
      "cell_type": "code",
      "metadata": {
        "id": "p5y9pVfr7h9P"
      },
      "source": [
        "N = 32\n",
        "start = 0\n",
        "end = 1\n",
        "\n",
        "f = 8\n",
        "t = np.linspace(start, end, N + 1)\n",
        "plt.stem(t, s(t, f), use_line_collection=True)\n",
        "plt.plot(t, s(t, f), 'k')\n",
        "\n",
        "dt = (end - start) / (N)\n",
        "sr = 1/dt\n",
        "print(f'minimum sample rate: {(2 * f - 1)}')\n",
        "print(f'sample rate: {sr}')\n",
        "\n",
        "# t = np.arange(start, end, dt)\n",
        "# plt.plot(t, s(t, f), 'r')"
      ],
      "execution_count": null,
      "outputs": []
    },
    {
      "cell_type": "code",
      "metadata": {
        "id": "pTAZG4huonG0"
      },
      "source": [
        "def dft(x, n=512):\n",
        "  N = len(x)\n",
        "\n",
        "  # t = np.linspace(-int(N/2), int(N/2), N)/N\n",
        "  t = np.linspace(0, N-1, N)\n",
        "  e = lambda f: np.exp(-1j * 2 * np.pi * f * t /N)\n",
        "  \n",
        "  ft = np.zeros((N, N), dtype = np.complex)\n",
        "  \n",
        "  for k in range(N):\n",
        "    ft[:, k] = e(k) * x\n",
        "\n",
        "  return np.sum(ft, axis = 0)"
      ],
      "execution_count": null,
      "outputs": []
    },
    {
      "cell_type": "code",
      "metadata": {
        "id": "ut0iCy1VqG81"
      },
      "source": [
        "ft = dft(s(t,f))\n",
        "plt.stem(np.abs(ft), use_line_collection=True)"
      ],
      "execution_count": null,
      "outputs": []
    },
    {
      "cell_type": "code",
      "metadata": {
        "id": "-7SlgdFj9oh2"
      },
      "source": [
        "kernel = lambda f, t : np.exp(-2j * np.pi * f * t)\n",
        "\n",
        "# fig = plt.figure(figsize=(17,8))\n",
        "fig = plt.figure(figsize=(11,5))\n",
        "# origin = [0], [0]\n",
        "\n",
        "N = 16\n",
        "t = np.linspace(start, end, N + 1)\n",
        "frq = 2\n",
        "\n",
        "# time = (end - start)\n",
        "# frq_f = np.linspace(-frq, frq, N + 1)\n",
        "\n",
        "dt = (end - start) / N\n",
        "sr = 1/dt\n",
        "print(sr)\n",
        "\n",
        "# plt.subplot(121)\n",
        "# plt.axis([-1.2, 1.2, -1.2, 1.2])\n",
        "# plt.plot(kernel(frq_f, time).real, kernel(frq_f, time).imag)\n",
        "# for n in range(0, N + 1):\n",
        "#   plt.quiver([0], [0], kernel(frq_f[n], time).real, kernel(frq_f[n], time).imag, scale=2.5)\n",
        "\n",
        "plt.subplot(121)\n",
        "plt.axis([0, 1, -1.2, 1.2])\n",
        "plt.plot(t, kernel(frq, t).real, 'k')\n",
        "plt.stem(t, kernel(frq, t).real, use_line_collection=True)\n",
        "\n",
        "plt.subplot(122)\n",
        "plt.axis([0, 1, -1.2, 1.2])\n",
        "plt.plot(t, kernel(frq, t).imag, 'k')\n",
        "plt.stem(t, kernel(frq, t).imag, use_line_collection=True)"
      ],
      "execution_count": null,
      "outputs": []
    },
    {
      "cell_type": "code",
      "metadata": {
        "id": "gtPQB_HVH9xV"
      },
      "source": [
        "start = 0\n",
        "end = 1\n",
        "N = 16\n",
        "\n",
        "dt = (end - start) / (N)\n",
        "sr = 1/dt\n",
        "\n",
        "kernel_f = lambda f, t : np.exp(-1j * 2 * np.pi * f * t * dt)\n",
        "s = lambda t, f : np.sin(2 * np.pi * f * t)\n",
        "\n",
        "from ipywidgets import interact#, interactive, fixed, interact_manual\n",
        "import ipywidgets as widgets\n",
        "\n",
        "\n",
        "def plot_func(N, frq, end):\n",
        "  fig = plt.figure(figsize=(17,8))\n",
        "  origin = [0], [0]\n",
        "\n",
        "  time = (end - start)\n",
        "  frq_f = np.linspace(-frq, frq, N + 1)\n",
        "\n",
        "  dt = (end - start) / N\n",
        "  sr = 1/dt\n",
        "  print(f'minimum sample rate: {(2 * frq)}')\n",
        "  print(f'sample rate: {sr}')\n",
        "\n",
        "  t = np.linspace(start, end, N + 1)\n",
        "  k = kernel_f(frq_f, time)\n",
        "  sig = s(t, frq)\n",
        "\n",
        "# plt 1 - normalized frequency\n",
        "  plt.subplot(121)\n",
        "  plt.axis([-1.2, 1.2, -1.2, 1.2])\n",
        "  plt.plot(k.real, k.imag)\n",
        "  for n in range(0, N + 1):\n",
        "    plt.quiver([0], [0], k[n].real, k[n].imag, scale=2.5)\n",
        "\n",
        "# plt 2 - time domain\n",
        "  plt.subplot(222)\n",
        "  plt.stem(t, sig, use_line_collection=True)\n",
        "  plt.plot(t, sig, 'k')\n",
        "\n",
        "# plt 3 - frequency domain\n",
        "  plt.subplot(224)\n",
        "  sp = np.fft.fft(sig, N + 1)\n",
        "  freq = np.fft.fftfreq(t.shape[-1], d=dt)\n",
        "  plt.stem(freq, np.abs(sp), use_line_collection=True)"
      ],
      "execution_count": null,
      "outputs": []
    },
    {
      "cell_type": "code",
      "metadata": {
        "id": "PehbznvPdnkH"
      },
      "source": [
        "interact(plot_func,\n",
        "      N=widgets.IntSlider(min=1, max=128, step=1, value=11),\n",
        "      frq=widgets.IntSlider(min=1, max=16, step=1, value=13),\n",
        "      end=widgets.IntSlider(min=1, max=4, step=1, value=1))"
      ],
      "execution_count": null,
      "outputs": []
    },
    {
      "cell_type": "code",
      "metadata": {
        "id": "QR4WVYL5z0uG"
      },
      "source": [
        ""
      ],
      "execution_count": null,
      "outputs": []
    }
  ]
}