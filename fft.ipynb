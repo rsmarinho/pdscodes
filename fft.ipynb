{
  "nbformat": 4,
  "nbformat_minor": 0,
  "metadata": {
    "colab": {
      "name": "fft.ipynb",
      "provenance": [],
      "collapsed_sections": [],
      "authorship_tag": "ABX9TyOek18c+Eg5XB/fOxqQQQlS",
      "include_colab_link": true
    },
    "kernelspec": {
      "name": "python3",
      "display_name": "Python 3"
    }
  },
  "cells": [
    {
      "cell_type": "markdown",
      "metadata": {
        "id": "view-in-github",
        "colab_type": "text"
      },
      "source": [
        "<a href=\"https://colab.research.google.com/github/rsmarinho/pdscodes/blob/master/fft.ipynb\" target=\"_parent\"><img src=\"https://colab.research.google.com/assets/colab-badge.svg\" alt=\"Open In Colab\"/></a>"
      ]
    },
    {
      "cell_type": "code",
      "metadata": {
        "id": "I428R8Ghmvu6"
      },
      "source": [
        "import numpy as np\n",
        "import matplotlib.pyplot as plt\n",
        "\n",
        "np.set_printoptions(precision = 1, suppress = True)"
      ],
      "execution_count": null,
      "outputs": []
    },
    {
      "cell_type": "code",
      "metadata": {
        "id": "JEMz6Ylv-AX-"
      },
      "source": [
        "N = 2\n",
        "x = np.array([3, 3])\n",
        "n = np.linspace(0, N-1, N)\n",
        "k = np.linspace(0, N-1, N)"
      ],
      "execution_count": null,
      "outputs": []
    },
    {
      "cell_type": "code",
      "metadata": {
        "id": "aGo7rgxpJrMV"
      },
      "source": [
        "np.fft.fft(x)"
      ],
      "execution_count": null,
      "outputs": []
    },
    {
      "cell_type": "code",
      "metadata": {
        "id": "0LVWDbm4-AT8"
      },
      "source": [
        "Wnk = lambda N, n, k: np.exp(-2j * np.pi * n * k / N)\n",
        "X = np.zeros(x.shape, dtype = np.complex)\n",
        "\n",
        "i_even = [i for i in range(x.size) if i % 2 == 0]\n",
        "i_odd = [i for i in range(x.size) if i % 2 == 1]\n",
        "\n",
        "for i in range(N):\n",
        "  if (i % 2 == 0):\n",
        "    X1 = x[i_even] * Wnk(N/2, n[i_even], i)\n",
        "  elif (i % 2 == 1):\n",
        "    X2 = x[i_odd] * Wnk(N/2, n[i_odd], i) * Wnk(N, 1, i)\n",
        "\n",
        "X = [X1 + X2, X1 - X2]\n",
        "print(X)"
      ],
      "execution_count": null,
      "outputs": []
    },
    {
      "cell_type": "code",
      "metadata": {
        "id": "_xVMQ1S4GvJN"
      },
      "source": [
        "def radix2(x, N, i):\n",
        "  X1 = x[0] * Wnk(N/2, n[0], i[0])\n",
        "  X2 = x[1] * Wnk(N/2, n[1], i[1]) * Wnk(N, 1, i[1])\n",
        "  return X1, X2"
      ],
      "execution_count": null,
      "outputs": []
    },
    {
      "cell_type": "code",
      "metadata": {
        "id": "8oAx-dbKKQPu"
      },
      "source": [
        "radix2(x, N, [0, 1])\n",
        "X1+X2, X1-X2"
      ],
      "execution_count": null,
      "outputs": []
    },
    {
      "cell_type": "code",
      "metadata": {
        "id": "HhUgHuUUKG-O"
      },
      "source": [
        "N = 2\n",
        "x = np.array([3, 13])\n",
        "n = np.linspace(0, N-1, N)\n",
        "k = np.linspace(0, N-1, N)\n",
        "\n",
        "print(np.fft.fft(x))\n",
        "\n",
        "X = np.zeros(x.shape, dtype = np.complex)\n",
        "\n",
        "X11 = x[0] * Wnk(N/2, 0, 0)\n",
        "X12 = x[1] * Wnk(N/2, 1, 0)\n",
        "\n",
        "X[0] =  X11 + X12 * Wnk(N, 1, 0)\n",
        "\n",
        "\n",
        "X11 = x[0] * Wnk(N/2, 0, 1)\n",
        "X12 = x[1] * Wnk(N/2, 1, 1)\n",
        "\n",
        "X[1] =  X11 + X12 * Wnk(N, 1, 1)\n",
        "\n",
        "print(X)"
      ],
      "execution_count": null,
      "outputs": []
    },
    {
      "cell_type": "code",
      "metadata": {
        "id": "dJObc9qr47uH"
      },
      "source": [
        "N = 4\n",
        "x = np.array([0, 3, 4, 0])\n",
        "n = np.linspace(0, N-1, N)\n",
        "k = np.linspace(0, N-1, N)\n",
        "\n",
        "print(np.fft.fft(x))\n",
        "\n",
        "X = np.zeros(x.shape, dtype = np.complex)\n",
        "\n",
        "X11 = x[0] * Wnk(N/4, 0, 0)\n",
        "X12 = x[2] * Wnk(N/4, 2, 0)\n",
        "X21 = x[1] * Wnk(N/4, 1, 0)\n",
        "X22 = x[3] * Wnk(N/4, 3, 0)\n",
        "\n",
        "X[0] =  X11 + X12 * Wnk(N/4, 1, 0) + Wnk(N/4, 1, 0) * ( X21 + X22 * Wnk(N/4, 1, 0) )\n",
        "\n",
        "\n",
        "X11 = x[0] * Wnk(N/4, 0, 1)\n",
        "X12 = x[2] * Wnk(N/4, 2, 1)\n",
        "X21 = x[1] * Wnk(N/4, 1, 1)\n",
        "X22 = x[3] * Wnk(N/4, 3, 1)\n",
        "\n",
        "X[1] =  X11 - X12 * Wnk(N/4, 1, 1) + Wnk(N, 1, 1) * ( X21 - X22 * Wnk(N/4, 1, 1) )\n",
        "\n",
        "\n",
        "X11 = x[0] * Wnk(N/4, 0, 2)\n",
        "X12 = x[2] * Wnk(N/4, 2, 2)\n",
        "X21 = x[1] * Wnk(N/4, 1, 2)\n",
        "X22 = x[3] * Wnk(N/4, 3, 2)\n",
        "\n",
        "X[2] =  X11 + X12 * Wnk(N/4, 1, 2) + Wnk(N, 1, 2) * ( X21 + X22 * Wnk(N/4, 1, 2) )\n",
        "\n",
        "\n",
        "X11 = x[0] * Wnk(N/4, 0, 3)\n",
        "X12 = x[2] * Wnk(N/4, 2, 3)\n",
        "X21 = x[1] * Wnk(N/4, 1, 3)\n",
        "X22 = x[3] * Wnk(N/4, 3, 3)\n",
        "\n",
        "X[3] =  X11 - X12 * Wnk(N/4, 1, 3) + Wnk(N, 1, 3) * ( X21 - X22 * Wnk(N/4, 1, 3) )\n",
        "\n",
        "print(X)"
      ],
      "execution_count": null,
      "outputs": []
    },
    {
      "cell_type": "code",
      "metadata": {
        "id": "cmg3YrN4wVPe"
      },
      "source": [
        "def dft(x):\n",
        "  N = len(x)\n",
        "\n",
        "  t = np.linspace(0, N-1, N)\n",
        "  e = lambda f: np.exp(-1j * 2 * np.pi * f * t /N)\n",
        "  \n",
        "  ft = np.zeros((N, N), dtype = np.complex)\n",
        "  \n",
        "  for k in range(N):\n",
        "    ft[:, k] = e(k) * x\n",
        "\n",
        "  return np.sum(ft, axis = 0)"
      ],
      "execution_count": null,
      "outputs": []
    },
    {
      "cell_type": "code",
      "metadata": {
        "id": "0bzR99Zqm7Gg"
      },
      "source": [
        "def run(x, X):\n",
        "  X11 = x[0] * Wnk(N/4, 0, 0)\n",
        "  X12 = x[2] * Wnk(N/4, 2, 0)\n",
        "  X21 = x[1] * Wnk(N/4, 1, 0)\n",
        "  X22 = x[3] * Wnk(N/4, 3, 0)\n",
        "\n",
        "  X[0] =  X11 + X12 * Wnk(N/4, 1, 0) + Wnk(N/4, 1, 0) * ( X21 + X22 * Wnk(N/4, 1, 0) )\n",
        "\n",
        "\n",
        "  X11 = x[0] * Wnk(N/4, 0, 1)\n",
        "  X12 = x[2] * Wnk(N/4, 2, 1)\n",
        "  X21 = x[1] * Wnk(N/4, 1, 1)\n",
        "  X22 = x[3] * Wnk(N/4, 3, 1)\n",
        "\n",
        "  X[1] =  X11 - X12 * Wnk(N/4, 1, 1) + Wnk(N, 1, 1) * ( X21 - X22 * Wnk(N/4, 1, 1) )\n",
        "\n",
        "\n",
        "  X11 = x[0] * Wnk(N/4, 0, 2)\n",
        "  X12 = x[2] * Wnk(N/4, 2, 2)\n",
        "  X21 = x[1] * Wnk(N/4, 1, 2)\n",
        "  X22 = x[3] * Wnk(N/4, 3, 2)\n",
        "\n",
        "  X[2] =  X11 + X12 * Wnk(N/4, 1, 2) + Wnk(N, 1, 2) * ( X21 + X22 * Wnk(N/4, 1, 2) )\n",
        "\n",
        "\n",
        "  X11 = x[0] * Wnk(N/4, 0, 3)\n",
        "  X12 = x[2] * Wnk(N/4, 2, 3)\n",
        "  X21 = x[1] * Wnk(N/4, 1, 3)\n",
        "  X22 = x[3] * Wnk(N/4, 3, 3)\n",
        "\n",
        "  X[3] =  X11 - X12 * Wnk(N/4, 1, 3) + Wnk(N, 1, 3) * ( X21 - X22 * Wnk(N/4, 1, 3) )\n",
        "\n",
        "  return X\n",
        "\n",
        "# test the time spent running the algorithms in ms\n",
        "t = %timeit -o -q dft(x)\n",
        "a = np.mean(t.all_runs)*1000\n",
        "print(f'class dft : {a:.2f} ms')\n",
        "\n",
        "t = %timeit -o -q run(x, X)\n",
        "a = np.mean(t.all_runs)*1000\n",
        "print(f'class fft : {a:.2f} ms')\n",
        "\n",
        "t = %timeit -o -q np.fft.fft(x)\n",
        "a = np.mean(t.all_runs)*1000\n",
        "print(f'np.fft    : {a:.2f} ms')\n",
        "\n",
        "np.allclose(run(x,X), np.fft.fft(x))"
      ],
      "execution_count": null,
      "outputs": []
    },
    {
      "cell_type": "code",
      "metadata": {
        "id": "jvSYpBH_9_-q"
      },
      "source": [
        "N = 4\n",
        "x = np.random.random(N)\n",
        "\n",
        "def fft(x):\n",
        "  X = np.zeros(x.shape, dtype = np.complex)\n",
        "  Xa = np.zeros(x.shape, dtype = np.complex)\n",
        "\n",
        "  x = np.asarray(x, dtype=float)\n",
        "  N = x.size\n",
        "  \n",
        "  if N % 2 > 0:\n",
        "    raise ValueError(\"error\")\n",
        "  elif N <= 8:\n",
        "    return dft(x)\n",
        "  else:\n",
        "    i_even = [i for i in range(x.size) if i % 2 == 0]\n",
        "    i_odd = [i for i in range(x.size) if i % 2 == 1]\n",
        "\n",
        "    X1 = fft(x[i_even])\n",
        "    X2 = fft(x[i_odd])\n",
        "    W = np.exp(-2j * np.pi * np.arange(N) / N)\n",
        "\n",
        "    X = np.concatenate([X1 + X2 * W[:int(N / 2)], X1 - X2 * W[:int(N / 2)]])\n",
        "    # X = np.concatenate([X1 + X2 * W[:int(N / 2)], X1 + X2 * W[int(N / 2):]]) % usando simetria W^(N+1/2) = -W^N \n",
        "    return np.array(X)\n",
        "\n",
        "# print(x)\n",
        "# print(np.fft.fft(x))\n",
        "# print(fft(x))\n",
        "# np.allclose(fft(x), np.fft.fft(x))"
      ],
      "execution_count": null,
      "outputs": []
    },
    {
      "cell_type": "code",
      "metadata": {
        "id": "R0ky0VhEsNtY"
      },
      "source": [
        "L = 16\n",
        "N = 2**L\n",
        "x = np.random.random(N)\n",
        "print(f'sig size  : {N}')\n",
        "\n",
        "# test the time spent running the algorithms in ms\n",
        "t = %timeit -o -q fft(x)\n",
        "a = np.mean(t.all_runs)*1000\n",
        "print(f'class fft : {a:.2f} ms')\n",
        "\n",
        "t = %timeit -o -q np.fft.fft(x)\n",
        "a = np.mean(t.all_runs)*1000\n",
        "print(f'np.fft    : {a:.2f} ms')\n",
        "\n",
        "np.allclose(fft(x), np.fft.fft(x))"
      ],
      "execution_count": null,
      "outputs": []
    },
    {
      "cell_type": "code",
      "metadata": {
        "id": "Tbq9Rgbcy202"
      },
      "source": [
        ""
      ],
      "execution_count": null,
      "outputs": []
    }
  ]
}