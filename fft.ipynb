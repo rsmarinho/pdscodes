{
  "nbformat": 4,
  "nbformat_minor": 0,
  "metadata": {
    "colab": {
      "name": "fft.ipynb",
      "provenance": [],
      "collapsed_sections": [],
      "authorship_tag": "ABX9TyNkUegCDNtZHzSA4oEYj7DU",
      "include_colab_link": true
    },
    "kernelspec": {
      "name": "python3",
      "display_name": "Python 3"
    }
  },
  "cells": [
    {
      "cell_type": "markdown",
      "metadata": {
        "id": "view-in-github",
        "colab_type": "text"
      },
      "source": [
        "<a href=\"https://colab.research.google.com/github/rsmarinho/pdscodes/blob/master/fft.ipynb\" target=\"_parent\"><img src=\"https://colab.research.google.com/assets/colab-badge.svg\" alt=\"Open In Colab\"/></a>"
      ]
    },
    {
      "cell_type": "code",
      "metadata": {
        "id": "I428R8Ghmvu6"
      },
      "source": [
        "import numpy as np\n",
        "import matplotlib.pyplot as plt\n",
        "\n",
        "# np.set_printoptions(precision = 3, suppress = True)\n",
        "np.set_printoptions(formatter={'complexfloat': lambda x: f\"{x.real:.2f}{'+-'[int(x.imag < 0)]}{abs(x.imag):.2f}j\"})"
      ],
      "execution_count": null,
      "outputs": []
    },
    {
      "cell_type": "code",
      "metadata": {
        "id": "JEMz6Ylv-AX-"
      },
      "source": [
        "Wnk = lambda n, k, N: np.exp(-1j * 2 * np.pi * n * k / N)"
      ],
      "execution_count": null,
      "outputs": []
    },
    {
      "cell_type": "code",
      "metadata": {
        "id": "aGo7rgxpJrMV"
      },
      "source": [
        "N = 2\n",
        "x = np.array([3, 3])\n",
        "print(np.fft.fft(x))"
      ],
      "execution_count": null,
      "outputs": []
    },
    {
      "cell_type": "code",
      "metadata": {
        "id": "_xVMQ1S4GvJN"
      },
      "source": [
        "def radix2(x, k, N):\n",
        "  W = Wnk(1, k, N)\n",
        "\n",
        "  X1 = x[0]\n",
        "  X2 = x[1] * W\n",
        "\n",
        "  return np.array([X1, X2], dtype=np.complex)"
      ],
      "execution_count": null,
      "outputs": []
    },
    {
      "cell_type": "code",
      "metadata": {
        "id": "HhUgHuUUKG-O"
      },
      "source": [
        "N = 2\n",
        "x = np.array([3, 3])\n",
        "\n",
        "print(np.fft.fft(x))\n",
        "\n",
        "X = np.zeros(x.shape, dtype = np.complex)\n",
        "\n",
        "X1, X2 = radix2(x, 0, N/2)\n",
        "X[0] =  X1 + X2\n",
        "\n",
        "X1, X2 = radix2(x, 1, N/2)\n",
        "X[1] =  X1 - X2\n",
        "\n",
        "print(X)"
      ],
      "execution_count": null,
      "outputs": []
    },
    {
      "cell_type": "code",
      "metadata": {
        "id": "7l-PDncjG3za"
      },
      "source": [
        "for k in range(0, N):\n",
        "  X1, X2 = radix2(x, k, N/2)\n",
        "  X[k] = [X1 + X2, X1 - X2][k & 1]\n",
        "\n",
        "print(X)"
      ],
      "execution_count": null,
      "outputs": []
    },
    {
      "cell_type": "code",
      "metadata": {
        "id": "PXU1NMA09v-a"
      },
      "source": [
        "N = 4\n",
        "x = np.random.random(N)\n",
        "X = np.zeros(x.shape, dtype = np.complex)\n",
        "\n",
        "# r2\n",
        "X1, X2 = radix2([x[0], x[2]], 0, N/2)\n",
        "X[0] = X1 + X2\n",
        "X[1] = X1 - X2\n",
        "\n",
        "X1, X2 = radix2([x[1], x[3]], 2, N/2)\n",
        "X[2] = X1 + X2\n",
        "X[3] = X1 - X2\n",
        "\n",
        "\n",
        "# r4\n",
        "X1, X2 = radix2([X[0], X[2]], 0, N)\n",
        "X[0] = X1 + X2\n",
        "X[2] = X1 - X2\n",
        "\n",
        "X1, X2 = radix2([X[1], X[3]], 1, N)\n",
        "X[1] = X1 + X2\n",
        "X[3] = X1 - X2\n",
        "\n",
        "print(np.fft.fft(x))\n",
        "print(X)"
      ],
      "execution_count": null,
      "outputs": []
    },
    {
      "cell_type": "code",
      "metadata": {
        "id": "n3d8jnpDaT9C"
      },
      "source": [
        "fig = plt.figure(figsize=(13,4))\n",
        "F = np.fft.fft(x)\n",
        "\n",
        "plt.subplot(121)\n",
        "plt.plot(F.imag, \"--r\", lw=5)\n",
        "plt.plot(X.imag, \"b\", lw=2)\n",
        "\n",
        "plt.subplot(122)\n",
        "plt.plot(F.real, \"--r\", lw=5)\n",
        "plt.plot(X.real, \"b\", lw=2)"
      ],
      "execution_count": null,
      "outputs": []
    },
    {
      "cell_type": "code",
      "metadata": {
        "id": "dDrQgRIUZcaD"
      },
      "source": [
        "def radix2_(x, k, N):\n",
        "  W = Wnk(1, k, N)\n",
        "\n",
        "  X1 = x[0] \n",
        "  X2 = x[1] * W\n",
        "  return np.array([X1+X2, X1-X2], dtype=np.complex)"
      ],
      "execution_count": null,
      "outputs": []
    },
    {
      "cell_type": "code",
      "metadata": {
        "id": "zADhZY3tZgKJ"
      },
      "source": [
        "X = np.zeros(x.shape, dtype = np.complex)\n",
        "\n",
        "X1 = radix2_([x[0], x[2]], 0, N/2)\n",
        "X2 = radix2_([x[1], x[3]], 2, N/2)\n",
        "\n",
        "X[0] = X1[0]\n",
        "X[1] = X1[1]\n",
        "X[2] = X2[0]\n",
        "X[3] = X2[1]\n",
        "\n",
        "X1 = radix2_([X[0], X[2]], 0, N)\n",
        "X2 = radix2_([X[1], X[3]], 1, N)\n",
        "\n",
        "X[0] = X1[0]\n",
        "X[1] = X2[0]\n",
        "X[2] = X1[1]\n",
        "X[3] = X2[1]\n",
        "\n",
        "print((np.fft.fft(x)))\n",
        "print((X))"
      ],
      "execution_count": null,
      "outputs": []
    },
    {
      "cell_type": "code",
      "metadata": {
        "id": "Tbq9Rgbcy202"
      },
      "source": [
        "fig = plt.figure(figsize=(13,4))\n",
        "F = np.fft.fft(x)\n",
        "\n",
        "plt.subplot(121)\n",
        "plt.plot(F.imag, \"--r\", lw=5)\n",
        "plt.plot(X.imag, \"b\", lw=2)\n",
        "\n",
        "plt.subplot(122)\n",
        "plt.plot(F.real, \"--r\", lw=5)\n",
        "plt.plot(X.real, \"b\", lw=2)"
      ],
      "execution_count": null,
      "outputs": []
    },
    {
      "cell_type": "code",
      "metadata": {
        "id": "J6oVR0XIcvmr"
      },
      "source": [
        ""
      ],
      "execution_count": null,
      "outputs": []
    },
    {
      "cell_type": "code",
      "metadata": {
        "id": "l3d6SK2fnCbR"
      },
      "source": [
        "fig = plt.figure(figsize=(13,4))\n",
        "F = np.fft.fft(x)\n",
        "\n",
        "plt.subplot(121)\n",
        "plt.plot(F.imag, \"--r\", lw=5)\n",
        "plt.plot(X.imag, \"b\", lw=2)\n",
        "\n",
        "plt.subplot(122)\n",
        "plt.plot(F.real, \"--r\", lw=5)\n",
        "plt.plot(X.real, \"b\", lw=2)"
      ],
      "execution_count": null,
      "outputs": []
    },
    {
      "cell_type": "code",
      "metadata": {
        "id": "GlDejm3oqXPr"
      },
      "source": [
        "def ord(x):\n",
        "  N = len(x)\n",
        "  s = int(np.log2(N)) + 1\n",
        "  x = np.array([[*x]])\n",
        "\n",
        "  for i in range(1, s):\n",
        "    ans = np.array([*x[:, :int(N/(2**i))], *x[:, int(N/(2**i)):]])\n",
        "    x = ans\n",
        "    ans = []\n",
        "  return x.flatten('F')"
      ],
      "execution_count": null,
      "outputs": []
    },
    {
      "cell_type": "code",
      "metadata": {
        "id": "B_ekbOuk82mY"
      },
      "source": [
        "N = 8\n",
        "y = np.linspace(0,N-1,N)\n",
        "print(y)\n",
        "print(ord(y))"
      ],
      "execution_count": null,
      "outputs": []
    },
    {
      "cell_type": "code",
      "metadata": {
        "id": "uJorqPf4qMIQ"
      },
      "source": [
        "N = 8\n",
        "y = np.random.random(N)\n",
        "x = ord(y)\n",
        "\n",
        "X = np.zeros(x.shape, dtype = np.complex)\n",
        "\n",
        "# r4\n",
        "X1 = radix2_([x[0], x[1]], 0, N/4)\n",
        "X2 = radix2_([x[2], x[3]], 2, N/4)\n",
        "##\n",
        "X3 = radix2_([x[4], x[5]], 4, N/4)\n",
        "X4 = radix2_([x[6], x[7]], 6, N/4)\n",
        "\n",
        "X[0] = X1[0]\n",
        "X[1] = X1[1]\n",
        "X[2] = X2[0]\n",
        "X[3] = X2[1]\n",
        "##\n",
        "X[4] = X3[0]\n",
        "X[5] = X3[1]\n",
        "X[6] = X4[0]\n",
        "X[7] = X4[1]\n",
        "#---\n",
        "\n",
        "# r2\n",
        "X1 = radix2_([X[0], X[2]], 0, N/2)\n",
        "X2 = radix2_([X[1], X[3]], 1, N/2)\n",
        "##\n",
        "X3 = radix2_([X[4], X[6]], 4, N/2)\n",
        "X4 = radix2_([X[5], X[7]], 5, N/2)\n",
        "\n",
        "X[0] = X1[0]\n",
        "X[1] = X2[0]\n",
        "X[2] = X1[1]\n",
        "X[3] = X2[1]\n",
        "##\n",
        "X[4] = X3[0]\n",
        "X[5] = X4[0]\n",
        "X[6] = X3[1]\n",
        "X[7] = X4[1]\n",
        "#---\n",
        "\n",
        "# r\n",
        "X1 = radix2_([X[0], X[4]], 0, N)\n",
        "X2 = radix2_([X[1], X[5]], 1, N)\n",
        "##\n",
        "X3 = radix2_([X[2], X[6]], 2, N)\n",
        "X4 = radix2_([X[3], X[7]], 3, N)\n",
        "\n",
        "X[0] = X1[0]\n",
        "X[1] = X2[0]\n",
        "X[2] = X3[0]\n",
        "X[3] = X4[0]\n",
        "##\n",
        "X[4] = X1[1]\n",
        "X[5] = X2[1]\n",
        "X[6] = X3[1]\n",
        "X[7] = X4[1]\n",
        "#---\n",
        "\n",
        "print((np.fft.fft(y)))\n",
        "print((X))"
      ],
      "execution_count": null,
      "outputs": []
    },
    {
      "cell_type": "code",
      "metadata": {
        "id": "oL8iCNz9-KIo"
      },
      "source": [
        "fig = plt.figure(figsize=(13,4))\n",
        "F = np.fft.fft(y)\n",
        "\n",
        "plt.subplot(121)\n",
        "plt.plot(F.imag, \"--r\", lw=5)\n",
        "plt.plot(X.imag, \"b\", lw=2)\n",
        "\n",
        "plt.subplot(122)\n",
        "plt.plot(F.real, \"--r\", lw=5)\n",
        "plt.plot(X.real, \"b\", lw=2)"
      ],
      "execution_count": null,
      "outputs": []
    },
    {
      "cell_type": "code",
      "metadata": {
        "id": "C4FCEREO-V5-"
      },
      "source": [
        "class fft:\n",
        "\n",
        "  @staticmethod\n",
        "  def ordenate(x):\n",
        "    N = len(x)\n",
        "    s = int(np.log2(N)) + 1\n",
        "    x = np.array([[*x]])\n",
        "    \n",
        "    for i in range(1, s):\n",
        "      ans = np.array([*x[:, :int(N/(2**i))], *x[:, int(N/(2**i)):]])\n",
        "      x = ans\n",
        "      ans = []\n",
        "    return x.flatten('F')\n",
        "\n",
        "  @staticmethod\n",
        "  def radix2(x, k, N):\n",
        "    W = np.exp(-1j * 2 * np.pi * k / N)\n",
        "\n",
        "    X1 = x[0] \n",
        "    X2 = x[1] * W\n",
        "    return np.array([X1+X2, X1-X2], dtype=np.complex)\n",
        "  \n",
        "  @staticmethod\n",
        "  def fft(x):\n",
        "    # N = self.N\n",
        "    # x = self.ord()\n",
        "    \n",
        "    N = len(x)\n",
        "    x = fft.ordenate(x)\n",
        "    X = np.zeros(x.shape, dtype=np.complex)\n",
        "\n",
        "    # r4\n",
        "    X1 = fft.radix2([x[0], x[1]], 0, N/4)\n",
        "    X[0] = X1[0]\n",
        "    X[1] = X1[1]\n",
        "    ##\n",
        "    X2 = fft.radix2([x[2], x[3]], 2, N/4)\n",
        "    X[2] = X2[0]\n",
        "    X[3] = X2[1]\n",
        "    ##\n",
        "    X1 = fft.radix2([x[4], x[5]], 4, N/4)\n",
        "    X[4] = X1[0]\n",
        "    X[5] = X1[1]\n",
        "    ##\n",
        "    X2 = fft.radix2([x[6], x[7]], 6, N/4)\n",
        "    X[6] = X2[0]\n",
        "    X[7] = X2[1]\n",
        "    #---\n",
        "\n",
        "    # r2\n",
        "    X1 = fft.radix2([X[0], X[2]], 0, N/2)\n",
        "    X2 = fft.radix2([X[1], X[3]], 1, N/2)\n",
        "    X[0] = X1[0]\n",
        "    X[1] = X2[0]\n",
        "    X[2] = X1[1]\n",
        "    X[3] = X2[1]\n",
        "    ##\n",
        "    X1 = fft.radix2([X[4], X[6]], 4, N/2)\n",
        "    X2 = fft.radix2([X[5], X[7]], 5, N/2)\n",
        "    X[4] = X1[0]\n",
        "    X[5] = X2[0]\n",
        "    X[6] = X1[1]\n",
        "    X[7] = X2[1]\n",
        "    #---\n",
        "\n",
        "    # r\n",
        "    X1 = fft.radix2([X[0], X[4]], 0, N)\n",
        "    X2 = fft.radix2([X[1], X[5]], 1, N)\n",
        "    X3 = fft.radix2([X[2], X[6]], 2, N)\n",
        "    X4 = fft.radix2([X[3], X[7]], 3, N)\n",
        "\n",
        "    X[0] = X1[0]\n",
        "    X[1] = X2[0]\n",
        "    X[2] = X3[0]\n",
        "    X[3] = X4[0]\n",
        "    X[4] = X1[1]\n",
        "    X[5] = X2[1]\n",
        "    X[6] = X3[1]\n",
        "    X[7] = X4[1]\n",
        "    #---\n",
        "    return X"
      ],
      "execution_count": null,
      "outputs": []
    },
    {
      "cell_type": "code",
      "metadata": {
        "id": "Xo4U-aH52PoZ"
      },
      "source": [
        "N = 8\n",
        "y = np.random.random(N)\n",
        "# y = np.linspace(0,N-1,N)\n",
        "\n",
        "# ---\n",
        "\n",
        "fig = plt.figure(figsize=(13,4))\n",
        "F = np.fft.fft(y)\n",
        "X = fft.fft(y)\n",
        "\n",
        "plt.subplot(121)\n",
        "plt.plot(F.imag, \"--r\", lw=5)\n",
        "plt.plot(X.imag, \"b\", lw=2)\n",
        "\n",
        "plt.subplot(122)\n",
        "plt.plot(F.real, \"--r\", lw=5)\n",
        "plt.plot(X.real, \"b\", lw=2)"
      ],
      "execution_count": null,
      "outputs": []
    },
    {
      "cell_type": "code",
      "metadata": {
        "id": "A_Z-JCnPNr2O"
      },
      "source": [
        "class fft:\n",
        "\n",
        "  @staticmethod\n",
        "  def ordenate(x):\n",
        "    N = len(x)\n",
        "    s = int(np.log2(N)) + 1\n",
        "    x = np.array([[*x]])\n",
        "    \n",
        "    for i in range(1, s):\n",
        "      ans = np.array([*x[:, :int(N/(2**i))], *x[:, int(N/(2**i)):]])\n",
        "      x = ans\n",
        "      ans = []\n",
        "    return x.flatten('F')\n",
        "\n",
        "  @staticmethod\n",
        "  def radix2(x, k, N, sum=True):\n",
        "    W = np.exp(-1j * 2 * np.pi * k / N)\n",
        "\n",
        "    X1 = x[0] \n",
        "    X2 = x[1] * W\n",
        "    if sum == False:\n",
        "      return X1, X2\n",
        "    else : \n",
        "      return np.array([X1+X2, X1-X2], dtype=np.complex)\n",
        "  \n",
        "  @staticmethod\n",
        "  def fft(x, v=False):\n",
        "    \n",
        "    N = len(x)\n",
        "    x = fft.ordenate(x)\n",
        "    X = np.zeros(x.shape, dtype=np.complex)\n",
        "\n",
        "    o = np.log2(N)\n",
        "    steps = 2**np.linspace(0, int(np.log2(N)), int(np.log2(N)+1), dtype=int)\n",
        "    size = len(steps)\n",
        "    if v == True: print(steps)\n",
        "    if v == True: print(f\"N : {N}\")\n",
        "\n",
        "    for i in range(0, N, 2):\n",
        "      X[i:i+2] = fft.radix2(x[i:i+2], 0, 2)\n",
        "\n",
        "    if N != 2:\n",
        "      for i in range(1, size-1): # steps\n",
        "        NN = steps[i+1] # N/2\n",
        "        if v == True: print(f\"step : {steps[i]}\") \n",
        "        if v == True: print(f\"N/2 : {NN}\")\n",
        "        if v == True: print(f\"j : \", end =\"\")\n",
        "\n",
        "        for j in range(0, steps[i], 1): # step\n",
        "\n",
        "          for m in range(0, int(N/NN)): # radix2 run\n",
        "            if v == True: print(f\"({m*NN+j}, {m*NN+j+steps[i]}),\", end =\"\")\n",
        "            X[m*NN+j], X[m*NN+(j+steps[i])] = fft.radix2( [X[m*NN+j], X[m*NN+(j+steps[i])]], j, NN)\n",
        "\n",
        "        if v == True: print(\"\",end=\"\\n\")\n",
        "        if v == True: print(\"---\")\n",
        "      #---\n",
        "    return X\n",
        "\n",
        "# ---\n",
        "N = 128\n",
        "y = np.random.random(N)\n",
        "# y = np.linspace(0,N-1,N)\n",
        "# print(y)\n",
        "# ---\n",
        "\n",
        "fig = plt.figure(figsize=(13,4))\n",
        "F = np.fft.fft(y)\n",
        "X = fft.fft(y, v=False)\n",
        "\n",
        "plt.subplot(121)\n",
        "plt.plot(F.imag, \"--r\", lw=5)\n",
        "plt.plot(X.imag, \"b\", lw=2)\n",
        "\n",
        "plt.subplot(122)\n",
        "plt.plot(F.real, \"--r\", lw=5)\n",
        "plt.plot(X.real, \"b\", lw=2)"
      ],
      "execution_count": null,
      "outputs": []
    },
    {
      "cell_type": "code",
      "metadata": {
        "id": "keWBK09A12pt"
      },
      "source": [
        "N = 256\n",
        "x = np.random.random(N)\n",
        "\n",
        "my = np.array([])\n",
        "npy = np.array([])\n",
        "\n",
        "# test the time spent running the algorithms in ms\n",
        "O = 10\n",
        "\n",
        "size = 2**np.linspace(1, O, O)\n",
        "\n",
        "for i in range(O):\n",
        "  x = np.random.random(int(size[i]))\n",
        "\n",
        "  t = %timeit -o -q fft.fft(x)\n",
        "  a = np.mean(t.all_runs)*1000\n",
        "  my = np.append(my, a)\n",
        "  # print(f'class fft : {a:.2f} ms')\n",
        "\n",
        "  t = %timeit -o -q np.fft.fft(x)\n",
        "  a = np.mean(t.all_runs)*1000\n",
        "  npy = np.append(npy, a)\n",
        "  # print(f'np.fft    : {a:.2f} ms')\n",
        "\n",
        "  print(\"\\r[%3.2f%%]\" % (i * 100. / (O-1)), end=\"\")\n",
        "\n",
        "# np.allclose(fft.fft(x), np.fft.fft(x))\n",
        "\n",
        "fig = plt.figure(figsize=(4,4))\n",
        "plt.plot(size, my, 'b')\n",
        "plt.plot(size, npy, 'r')"
      ],
      "execution_count": null,
      "outputs": []
    },
    {
      "cell_type": "code",
      "metadata": {
        "id": "sheeWSWn73t2"
      },
      "source": [
        ""
      ],
      "execution_count": null,
      "outputs": []
    }
  ]
}