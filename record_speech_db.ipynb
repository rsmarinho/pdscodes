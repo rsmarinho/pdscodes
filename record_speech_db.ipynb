{
  "nbformat": 4,
  "nbformat_minor": 0,
  "metadata": {
    "colab": {
      "name": "record_speech_db.ipynb",
      "provenance": [],
      "authorship_tag": "ABX9TyMIZic+054n0+4bIz6EvM1h",
      "include_colab_link": true
    },
    "kernelspec": {
      "name": "python3",
      "display_name": "Python 3"
    }
  },
  "cells": [
    {
      "cell_type": "markdown",
      "metadata": {
        "id": "view-in-github",
        "colab_type": "text"
      },
      "source": [
        "<a href=\"https://colab.research.google.com/github/rsmarinho/pdscodes/blob/master/record_speech_db.ipynb\" target=\"_parent\"><img src=\"https://colab.research.google.com/assets/colab-badge.svg\" alt=\"Open In Colab\"/></a>"
      ]
    },
    {
      "cell_type": "markdown",
      "metadata": {
        "id": "2ikR5aXxkoHS"
      },
      "source": [
        "Arquivo para criação de base de dados para utilização na disciplina de PDS"
      ]
    },
    {
      "cell_type": "code",
      "metadata": {
        "id": "d3iTh8HzG2Hi"
      },
      "source": [
        "# instala modulo ffmpeg\n",
        "!pip install ffmpeg-python"
      ],
      "execution_count": null,
      "outputs": []
    },
    {
      "cell_type": "code",
      "metadata": {
        "id": "MQ6WsH2YQlUD"
      },
      "source": [
        "# importa modulo matplotlib para visualizacao de dados\n",
        "# e gravação dos arquivos de audio\n",
        "import matplotlib.pyplot as plt\n",
        "from scipy.io.wavfile import write as wav_write"
      ],
      "execution_count": null,
      "outputs": []
    },
    {
      "cell_type": "markdown",
      "metadata": {
        "id": "B4YJxjXyNbv3"
      },
      "source": [
        "A parte de gravação do audio do microfone veio [daqui](https://colab.research.google.com/gist/ricardodeazambuja/03ac98c31e87caf284f7b06286ebf7fd/microphone-to-numpy-array-from-your-browser-in-colab.ipynb)\n"
      ]
    },
    {
      "cell_type": "code",
      "metadata": {
        "id": "BPVq3JttNTFE"
      },
      "source": [
        "\"\"\"\n",
        "To write this piece of code I took inspiration/code from a lot of places.\n",
        "It was late night, so I'm not sure how much I created or just copied o.O\n",
        "Here are some of the possible references:\n",
        "https://blog.addpipe.com/recording-audio-in-the-browser-using-pure-html5-and-minimal-javascript/\n",
        "https://stackoverflow.com/a/18650249\n",
        "https://hacks.mozilla.org/2014/06/easy-audio-capture-with-the-mediarecorder-api/\n",
        "https://air.ghost.io/recording-to-an-audio-file-using-html5-and-js/\n",
        "https://stackoverflow.com/a/49019356\n",
        "\"\"\"\n",
        "from IPython.display import HTML, Audio\n",
        "from google.colab.output import eval_js\n",
        "from base64 import b64decode\n",
        "import numpy as np\n",
        "from scipy.io.wavfile import read as wav_read\n",
        "import io\n",
        "import ffmpeg\n",
        "\n",
        "AUDIO_HTML = \"\"\"\n",
        "<script>\n",
        "var my_div = document.createElement(\"DIV\");\n",
        "var my_p = document.createElement(\"P\");\n",
        "var my_btn = document.createElement(\"BUTTON\");\n",
        "var t = document.createTextNode(\"Press to start recording\");\n",
        "\n",
        "my_btn.appendChild(t);\n",
        "//my_p.appendChild(my_btn);\n",
        "my_div.appendChild(my_btn);\n",
        "document.body.appendChild(my_div);\n",
        "\n",
        "var base64data = 0;\n",
        "var reader;\n",
        "var recorder, gumStream;\n",
        "var recordButton = my_btn;\n",
        "\n",
        "var handleSuccess = function(stream) {\n",
        "  gumStream = stream;\n",
        "  var options = {\n",
        "    //bitsPerSecond: 8000, //chrome seems to ignore, always 48k\n",
        "    mimeType : 'audio/webm;codecs=opus'\n",
        "    //mimeType : 'audio/webm;codecs=pcm'\n",
        "  };            \n",
        "  //recorder = new MediaRecorder(stream, options);\n",
        "  recorder = new MediaRecorder(stream);\n",
        "  recorder.ondataavailable = function(e) {            \n",
        "    var url = URL.createObjectURL(e.data);\n",
        "    var preview = document.createElement('audio');\n",
        "    preview.controls = true;\n",
        "    preview.src = url;\n",
        "    document.body.appendChild(preview);\n",
        "\n",
        "    reader = new FileReader();\n",
        "    reader.readAsDataURL(e.data); \n",
        "    reader.onloadend = function() {\n",
        "      base64data = reader.result;\n",
        "      //console.log(\"Inside FileReader:\" + base64data);\n",
        "    }\n",
        "  };\n",
        "  recorder.start();\n",
        "  };\n",
        "\n",
        "recordButton.innerText = \"Recording... press to stop\";\n",
        "\n",
        "navigator.mediaDevices.getUserMedia({audio: true}).then(handleSuccess);\n",
        "\n",
        "\n",
        "function toggleRecording() {\n",
        "  if (recorder && recorder.state == \"recording\") {\n",
        "      recorder.stop();\n",
        "      gumStream.getAudioTracks()[0].stop();\n",
        "      recordButton.innerText = \"Saving the recording... pls wait!\"\n",
        "  }\n",
        "}\n",
        "\n",
        "// https://stackoverflow.com/a/951057\n",
        "function sleep(ms) {\n",
        "  return new Promise(resolve => setTimeout(resolve, ms));\n",
        "}\n",
        "\n",
        "var data = new Promise(resolve=>{\n",
        "//recordButton.addEventListener(\"click\", toggleRecording);\n",
        "recordButton.onclick = ()=>{\n",
        "toggleRecording()\n",
        "\n",
        "sleep(2000).then(() => {\n",
        "  // wait 2000ms for the data to be available...\n",
        "  // ideally this should use something like await...\n",
        "  //console.log(\"Inside data:\" + base64data)\n",
        "  resolve(base64data.toString())\n",
        "\n",
        "});\n",
        "\n",
        "}\n",
        "});\n",
        "      \n",
        "</script>\n",
        "\"\"\"\n",
        "\n",
        "def get_audio():\n",
        "  display(HTML(AUDIO_HTML))\n",
        "  data = eval_js(\"data\")\n",
        "  binary = b64decode(data.split(',')[1])\n",
        "  \n",
        "  process = (ffmpeg\n",
        "    .input('pipe:0')\n",
        "    .output('pipe:1', format='wav')\n",
        "    .run_async(pipe_stdin=True, pipe_stdout=True, pipe_stderr=True, quiet=True, overwrite_output=True)\n",
        "  )\n",
        "  output, err = process.communicate(input=binary)\n",
        "  \n",
        "  riff_chunk_size = len(output) - 8\n",
        "  # Break up the chunk size into four bytes, held in b.\n",
        "  q = riff_chunk_size\n",
        "  b = []\n",
        "  for i in range(4):\n",
        "      q, r = divmod(q, 256)\n",
        "      b.append(r)\n",
        "\n",
        "  # Replace bytes 4:8 in proc.stdout with the actual size of the RIFF chunk.\n",
        "  riff = output[:4] + bytes(b) + output[8:]\n",
        "\n",
        "  sr, audio = wav_read(io.BytesIO(riff))\n",
        "\n",
        "  return audio, sr"
      ],
      "execution_count": null,
      "outputs": []
    },
    {
      "cell_type": "markdown",
      "metadata": {
        "id": "_6z_f0FjlH5Q"
      },
      "source": [
        "A partid daqui os comandos serão utilizados para gravação dos arquivos. Você deve executar uma linha de comando por vez!\n",
        "\n",
        "Na primeira liha de comando você deve colocar seu primeiro nome (sem acento).\n",
        "\n",
        "O procedimento de gravação deve ser seguido da seguinte forma:\n",
        "1. Rode a linha de comando\n",
        "2. Fale a palavra no microfone\n",
        "3. Clique no botão para parar a gravação\n",
        "4. Escute a gravação, caso a gravação esteja boa, então prossiga para a próxima linha de comando, caso contrário rode a linha novamente\n",
        "\n",
        "Cada palavra deve gerar dez arquivos, cada arquivo será automaticamente numerado. No final, caso esteja faltando um arquivo, volte até a linha do arquivo que está faltando e grave novamente."
      ]
    },
    {
      "cell_type": "code",
      "metadata": {
        "id": "Rz4_hq5OjHEO"
      },
      "source": [
        "# digite aqui seu nome\n",
        "name = 'rafael'"
      ],
      "execution_count": null,
      "outputs": []
    },
    {
      "cell_type": "markdown",
      "metadata": {
        "id": "V73qcxYImS48"
      },
      "source": [
        "Nas dez linhas abaixo você deve falar a palavra 'hum' referente ao numeral '1'.\n"
      ]
    },
    {
      "cell_type": "code",
      "metadata": {
        "id": "b8CCuI-Pj54W"
      },
      "source": [
        "audio, sr = get_audio()\n",
        "wav_write('/content/' + name + \"_1_000.wav\", data=audio[:,0], rate=sr)"
      ],
      "execution_count": null,
      "outputs": []
    },
    {
      "cell_type": "code",
      "metadata": {
        "id": "GMKMaRWPNlCq"
      },
      "source": [
        "audio, sr = get_audio()\n",
        "wav_write('/content/' + name + \"_1_001.wav\", data=audio[:,0], rate=sr)"
      ],
      "execution_count": null,
      "outputs": []
    },
    {
      "cell_type": "code",
      "metadata": {
        "id": "GQp9fWGRj7Wz"
      },
      "source": [
        "audio, sr = get_audio()\n",
        "wav_write('/content/' + name + \"_1_002.wav\", data=audio[:,0], rate=sr)"
      ],
      "execution_count": null,
      "outputs": []
    },
    {
      "cell_type": "code",
      "metadata": {
        "id": "0ZIn8Bimj7Oy"
      },
      "source": [
        "audio, sr = get_audio()\n",
        "wav_write('/content/' + name + \"_1_003.wav\", data=audio[:,0], rate=sr)"
      ],
      "execution_count": null,
      "outputs": []
    },
    {
      "cell_type": "code",
      "metadata": {
        "id": "hfyOA439j7H9"
      },
      "source": [
        "audio, sr = get_audio()\n",
        "wav_write('/content/' + name + \"_1_004.wav\", data=audio[:,0], rate=sr)"
      ],
      "execution_count": null,
      "outputs": []
    },
    {
      "cell_type": "code",
      "metadata": {
        "id": "xslspduwj7A3"
      },
      "source": [
        "audio, sr = get_audio()\n",
        "wav_write('/content/' + name + \"_1_005.wav\", data=audio[:,0], rate=sr)"
      ],
      "execution_count": null,
      "outputs": []
    },
    {
      "cell_type": "code",
      "metadata": {
        "id": "STZ_VdLWj64l"
      },
      "source": [
        "audio, sr = get_audio()\n",
        "wav_write('/content/' + name + \"_1_006.wav\", data=audio[:,0], rate=sr)"
      ],
      "execution_count": null,
      "outputs": []
    },
    {
      "cell_type": "code",
      "metadata": {
        "id": "WQ_ADagbj6wU"
      },
      "source": [
        "audio, sr = get_audio()\n",
        "wav_write('/content/' + name + \"_1_007.wav\", data=audio[:,0], rate=sr)"
      ],
      "execution_count": null,
      "outputs": []
    },
    {
      "cell_type": "code",
      "metadata": {
        "id": "TOk4epSfj6m8"
      },
      "source": [
        "audio, sr = get_audio()\n",
        "wav_write('/content/' + name + \"_1_008.wav\", data=audio[:,0], rate=sr)"
      ],
      "execution_count": null,
      "outputs": []
    },
    {
      "cell_type": "code",
      "metadata": {
        "id": "ZnIqCXHDj6a4"
      },
      "source": [
        "audio, sr = get_audio()\n",
        "wav_write('/content/' + name + \"_1_009.wav\", data=audio[:,0], rate=sr)"
      ],
      "execution_count": null,
      "outputs": []
    },
    {
      "cell_type": "markdown",
      "metadata": {
        "id": "zinwgwYxmb28"
      },
      "source": [
        "Nas dez linhas abaixo você deve falar a palavra 'dois' referente ao numeral '2'."
      ]
    },
    {
      "cell_type": "code",
      "metadata": {
        "id": "h8dKbdoFkJFq"
      },
      "source": [
        "audio, sr = get_audio()\n",
        "wav_write('/content/' + name + \"_2_000.wav\", data=audio[:,0], rate=sr)"
      ],
      "execution_count": null,
      "outputs": []
    },
    {
      "cell_type": "code",
      "metadata": {
        "id": "fWfjKpFfkNHL"
      },
      "source": [
        "audio, sr = get_audio()\n",
        "wav_write('/content/' + name + \"_2_001.wav\", data=audio[:,0], rate=sr)"
      ],
      "execution_count": null,
      "outputs": []
    },
    {
      "cell_type": "code",
      "metadata": {
        "id": "VlARitRckM-X"
      },
      "source": [
        "audio, sr = get_audio()\n",
        "wav_write('/content/' + name + \"_2_002.wav\", data=audio[:,0], rate=sr)"
      ],
      "execution_count": null,
      "outputs": []
    },
    {
      "cell_type": "code",
      "metadata": {
        "id": "wfNpJiXVkM14"
      },
      "source": [
        "audio, sr = get_audio()\n",
        "wav_write('/content/' + name + \"_2_003.wav\", data=audio[:,0], rate=sr)"
      ],
      "execution_count": null,
      "outputs": []
    },
    {
      "cell_type": "code",
      "metadata": {
        "id": "1en_27LFkMt1"
      },
      "source": [
        "audio, sr = get_audio()\n",
        "wav_write('/content/' + name + \"_2_004.wav\", data=audio[:,0], rate=sr)"
      ],
      "execution_count": null,
      "outputs": []
    },
    {
      "cell_type": "code",
      "metadata": {
        "id": "ZapjEcTHkMmJ"
      },
      "source": [
        "audio, sr = get_audio()\n",
        "wav_write('/content/' + name + \"_2_005.wav\", data=audio[:,0], rate=sr)"
      ],
      "execution_count": null,
      "outputs": []
    },
    {
      "cell_type": "code",
      "metadata": {
        "id": "c3ZuXzV_kMfW"
      },
      "source": [
        "audio, sr = get_audio()\n",
        "wav_write('/content/' + name + \"_2_006.wav\", data=audio[:,0], rate=sr)"
      ],
      "execution_count": null,
      "outputs": []
    },
    {
      "cell_type": "code",
      "metadata": {
        "id": "voH45XmYkMXo"
      },
      "source": [
        "audio, sr = get_audio()\n",
        "wav_write('/content/' + name + \"_2_007.wav\", data=audio[:,0], rate=sr)"
      ],
      "execution_count": null,
      "outputs": []
    },
    {
      "cell_type": "code",
      "metadata": {
        "id": "VQrxDMIvkMJP"
      },
      "source": [
        "audio, sr = get_audio()\n",
        "wav_write('/content/' + name + \"_2_008.wav\", data=audio[:,0], rate=sr)"
      ],
      "execution_count": null,
      "outputs": []
    },
    {
      "cell_type": "code",
      "metadata": {
        "id": "dgF9x7eikTTq"
      },
      "source": [
        "audio, sr = get_audio()\n",
        "wav_write('/content/' + name + \"_2_009.wav\", data=audio[:,0], rate=sr)"
      ],
      "execution_count": null,
      "outputs": []
    },
    {
      "cell_type": "markdown",
      "metadata": {
        "id": "MwBj4iX8mlrd"
      },
      "source": [
        "Nas dez linhas abaixo você deve falar a palavra 'pipoca'."
      ]
    },
    {
      "cell_type": "code",
      "metadata": {
        "id": "sJBuUaaKkTt6"
      },
      "source": [
        "audio, sr = get_audio()\n",
        "wav_write('/content/' + name + \"_pipoca_000.wav\", data=audio[:,0], rate=sr)"
      ],
      "execution_count": null,
      "outputs": []
    },
    {
      "cell_type": "code",
      "metadata": {
        "id": "XDBrmjbakeMA"
      },
      "source": [
        "audio, sr = get_audio()\n",
        "wav_write('/content/' + name + \"_pipoca_001.wav\", data=audio[:,0], rate=sr)"
      ],
      "execution_count": null,
      "outputs": []
    },
    {
      "cell_type": "code",
      "metadata": {
        "id": "m2cMOriQkd_s"
      },
      "source": [
        "audio, sr = get_audio()\n",
        "wav_write('/content/' + name + \"_pipoca_002.wav\", data=audio[:,0], rate=sr)"
      ],
      "execution_count": null,
      "outputs": []
    },
    {
      "cell_type": "code",
      "metadata": {
        "id": "DGjmONetkdzO"
      },
      "source": [
        "audio, sr = get_audio()\n",
        "wav_write('/content/' + name + \"_pipoca_003.wav\", data=audio[:,0], rate=sr)"
      ],
      "execution_count": null,
      "outputs": []
    },
    {
      "cell_type": "code",
      "metadata": {
        "id": "DUOH6Ue4kdl9"
      },
      "source": [
        "audio, sr = get_audio()\n",
        "wav_write('/content/' + name + \"_pipoca_004.wav\", data=audio[:,0], rate=sr)"
      ],
      "execution_count": null,
      "outputs": []
    },
    {
      "cell_type": "code",
      "metadata": {
        "id": "H9ru8h2akdaN"
      },
      "source": [
        "audio, sr = get_audio()\n",
        "wav_write('/content/' + name + \"_pipoca_005.wav\", data=audio[:,0], rate=sr)"
      ],
      "execution_count": null,
      "outputs": []
    },
    {
      "cell_type": "code",
      "metadata": {
        "id": "VfD3HbT0kdNA"
      },
      "source": [
        "audio, sr = get_audio()\n",
        "wav_write('/content/' + name + \"_pipoca_006.wav\", data=audio[:,0], rate=sr)"
      ],
      "execution_count": null,
      "outputs": []
    },
    {
      "cell_type": "code",
      "metadata": {
        "id": "jarSf1Lqkc_u"
      },
      "source": [
        "audio, sr = get_audio()\n",
        "wav_write('/content/' + name + \"_pipoca_007.wav\", data=audio[:,0], rate=sr)"
      ],
      "execution_count": null,
      "outputs": []
    },
    {
      "cell_type": "code",
      "metadata": {
        "id": "QyyPtLB2kcuU"
      },
      "source": [
        "audio, sr = get_audio()\n",
        "wav_write('/content/' + name + \"_pipoca_008.wav\", data=audio[:,0], rate=sr)"
      ],
      "execution_count": null,
      "outputs": []
    },
    {
      "cell_type": "code",
      "metadata": {
        "id": "U43TSlT1kcWw"
      },
      "source": [
        "audio, sr = get_audio()\n",
        "wav_write('/content/' + name + \"_pipoca_009.wav\", data=audio[:,0], rate=sr)"
      ],
      "execution_count": null,
      "outputs": []
    },
    {
      "cell_type": "markdown",
      "metadata": {
        "id": "B7zXetnimrfz"
      },
      "source": [
        "Execute a linha abaixo para gerar o arquivo tar com todos os arquivos de voz."
      ]
    },
    {
      "cell_type": "code",
      "metadata": {
        "id": "uenbbeXOVmK4"
      },
      "source": [
        "!tar -vcf audio.tar *.wav "
      ],
      "execution_count": null,
      "outputs": []
    },
    {
      "cell_type": "code",
      "metadata": {
        "id": "g1mym3MRjwN0"
      },
      "source": [
        ""
      ],
      "execution_count": null,
      "outputs": []
    }
  ]
}